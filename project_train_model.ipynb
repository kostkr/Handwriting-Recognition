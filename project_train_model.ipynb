{
 "cells": [
  {
   "cell_type": "markdown",
   "source": [
    "# Handwriting recognition\n",
    "# Import libraries"
   ],
   "metadata": {
    "collapsed": false
   },
   "id": "372c45910172988d"
  },
  {
   "cell_type": "code",
   "outputs": [],
   "source": [
    "# Warning python version < 3.12.0( 3.8.10 recommended)\n",
    "\n",
    "import os\n",
    "import cv2\n",
    "import sys\n",
    "import random\n",
    "import pickle\n",
    "import numpy as np\n",
    "import pandas as pd\n",
    "import matplotlib.pyplot as plt\n",
    "\n",
    "#from setuptools import setup # use instead of distutils(deprecated)\n",
    "import tensorflow as tf\n",
    "# from keras import backend as K\n",
    "from keras.models import Model, load_model\n",
    "from keras.layers import Input, Conv2D, MaxPooling2D, Reshape, Bidirectional, LSTM, Dense, Lambda, Activation, BatchNormalization, Dropout\n",
    "from keras.optimizers import Adam\n",
    "from keras.callbacks import EarlyStopping, ModelCheckpoint"
   ],
   "metadata": {
    "collapsed": false,
    "ExecuteTime": {
     "end_time": "2024-04-29T08:39:46.755904100Z",
     "start_time": "2024-04-29T08:39:36.292910400Z"
    }
   },
   "id": "169b1bb87796080e",
   "execution_count": 1
  },
  {
   "cell_type": "code",
   "outputs": [
    {
     "name": "stdout",
     "output_type": "stream",
     "text": [
      "[PhysicalDevice(name='/physical_device:CPU:0', device_type='CPU')]\n",
      "[PhysicalDevice(name='/physical_device:GPU:0', device_type='GPU')]\n"
     ]
    }
   ],
   "source": [
    "print(tf.config.list_physical_devices(\"CPU\"))\n",
    "print(tf.config.list_physical_devices(\"GPU\"))\n"
   ],
   "metadata": {
    "collapsed": false,
    "ExecuteTime": {
     "end_time": "2024-04-29T08:39:47.887760600Z",
     "start_time": "2024-04-29T08:39:47.826711400Z"
    }
   },
   "id": "4f6da28a7fe94b5b",
   "execution_count": 2
  },
  {
   "cell_type": "markdown",
   "source": [
    "# Load data"
   ],
   "metadata": {
    "collapsed": false
   },
   "id": "4e21106f9dcd4529"
  },
  {
   "cell_type": "code",
   "outputs": [
    {
     "name": "stdout",
     "output_type": "stream",
     "text": [
      "train data:  0.80  330961\n",
      "valid data:  0.10  41370\n",
      "test data:   0.10  41370\n"
     ]
    }
   ],
   "source": [
    "train = pd.read_csv('written_name_train_v2.csv')\n",
    "valid = pd.read_csv('written_name_validation_v2.csv')\n",
    "test = pd.read_csv('written_name_test_v2.csv')\n",
    "\n",
    "train_len = len(train)\n",
    "test_len = len(test)\n",
    "validation_len = len(valid)\n",
    "\n",
    "sum = train_len + test_len + validation_len\n",
    "\n",
    "print(\"train data:  {:.2f}  {}\".format((train_len/ sum), train_len))\n",
    "print(\"valid data:  {:.2f}  {}\".format((validation_len / sum), validation_len))\n",
    "print(\"test data:   {:.2f}  {}\".format((test_len / sum), test_len))"
   ],
   "metadata": {
    "collapsed": false,
    "ExecuteTime": {
     "end_time": "2024-04-29T08:39:48.276951100Z",
     "start_time": "2024-04-29T08:39:47.844769500Z"
    }
   },
   "id": "abfe2ffc26e0b500",
   "execution_count": 3
  },
  {
   "cell_type": "markdown",
   "source": [
    "#  View data"
   ],
   "metadata": {
    "collapsed": false
   },
   "id": "a92035066333902b"
  },
  {
   "cell_type": "code",
   "outputs": [
    {
     "data": {
      "text/plain": "<Figure size 1000x1000 with 4 Axes>",
      "image/png": "[encoded data removed]"
     },
     "metadata": {},
     "output_type": "display_data"
    }
   ],
   "source": [
    "plt.figure(figsize=(10, 10))\n",
    "\n",
    "for i in range(4):\n",
    "    ax = plt.subplot(2, 2, i+1)\n",
    "    img_dir = './test_v2/test/' + test.loc[i, 'FILENAME']\n",
    "    image = cv2.imread(img_dir, cv2.IMREAD_GRAYSCALE)\n",
    "    plt.imshow(image, cmap='gray')\n",
    "    plt.title(test.loc[i, 'IDENTITY'], fontsize=12)\n",
    "    plt.axis('off')\n",
    "\n",
    "plt.subplots_adjust(wspace=0.4, hspace=-0.8)\n",
    "plt.show()"
   ],
   "metadata": {
    "collapsed": false,
    "ExecuteTime": {
     "end_time": "2024-04-29T08:39:48.640212900Z",
     "start_time": "2024-04-29T08:39:48.251966900Z"
    }
   },
   "id": "cfa49dc89895cf8b",
   "execution_count": 4
  },
  {
   "cell_type": "markdown",
   "source": [
    "# Clean data"
   ],
   "metadata": {
    "collapsed": false
   },
   "id": "d441f73b5de3d0b"
  },
  {
   "cell_type": "code",
   "outputs": [
    {
     "name": "stdout",
     "output_type": "stream",
     "text": [
      "Number of NaNs in train set      :  565\n",
      "Number of NaNs in validation set :  78\n",
      "Number of NaNs in validation set :  70\n"
     ]
    }
   ],
   "source": [
    "print(\"Number of NaNs in train set      : \", train.IDENTITY.isna().sum())\n",
    "print(\"Number of NaNs in validation set : \", valid.IDENTITY.isna().sum())\n",
    "print(\"Number of NaNs in validation set : \", test.IDENTITY.isna().sum())"
   ],
   "metadata": {
    "collapsed": false,
    "ExecuteTime": {
     "end_time": "2024-04-29T08:39:48.756169500Z",
     "start_time": "2024-04-29T08:39:48.629682400Z"
    }
   },
   "id": "5c0de0131685133b",
   "execution_count": 5
  },
  {
   "cell_type": "code",
   "outputs": [],
   "source": [
    "# Drop the NaNs labels\n",
    "train.dropna(axis=0, inplace=True)\n",
    "valid.dropna(axis=0, inplace=True)\n",
    "test.dropna(axis=0, inplace=True)"
   ],
   "metadata": {
    "collapsed": false,
    "ExecuteTime": {
     "end_time": "2024-04-29T08:39:48.760168Z",
     "start_time": "2024-04-29T08:39:48.664209600Z"
    }
   },
   "id": "d2a067cd2967a115",
   "execution_count": 6
  },
  {
   "cell_type": "code",
   "outputs": [],
   "source": [
    "# Remove the Unreadable labels\n",
    "train = train[train.IDENTITY != 'UNREADABLE']\n",
    "valid = valid[valid.IDENTITY != 'UNREADABLE']\n",
    "test = test[test.IDENTITY != 'UNREADABLE']"
   ],
   "metadata": {
    "collapsed": false,
    "ExecuteTime": {
     "end_time": "2024-04-29T08:39:48.872621Z",
     "start_time": "2024-04-29T08:39:48.747059500Z"
    }
   },
   "id": "d04b1c06172eee12",
   "execution_count": 7
  },
  {
   "cell_type": "code",
   "outputs": [],
   "source": [
    "# Covert lowercase to uppercase\n",
    "train.IDENTITY = train.IDENTITY.str.upper()\n",
    "valid.IDENTITY = valid.IDENTITY.str.upper()\n",
    "test.IDENTITY = test.IDENTITY.str.upper()"
   ],
   "metadata": {
    "collapsed": false,
    "ExecuteTime": {
     "end_time": "2024-04-29T08:39:48.952175300Z",
     "start_time": "2024-04-29T08:39:48.788174500Z"
    }
   },
   "id": "71280832984128fa",
   "execution_count": 8
  },
  {
   "cell_type": "code",
   "outputs": [],
   "source": [
    "# Reset the index\n",
    "train.reset_index(inplace = True, drop=True)\n",
    "valid.reset_index(inplace = True, drop=True)\n",
    "test.reset_index(inplace = True, drop=True)"
   ],
   "metadata": {
    "collapsed": false,
    "ExecuteTime": {
     "end_time": "2024-04-29T08:39:48.956170300Z",
     "start_time": "2024-04-29T08:39:48.900627700Z"
    }
   },
   "id": "41644c95dd1ba674",
   "execution_count": 9
  },
  {
   "cell_type": "code",
   "outputs": [],
   "source": [
    "train_size = len(train)# train 5000 images \n",
    "#test_size = len(test)\n",
    "valid_size = 5000#len(valid)# train 620 images"
   ],
   "metadata": {
    "collapsed": false,
    "ExecuteTime": {
     "end_time": "2024-04-29T08:39:51.625128200Z",
     "start_time": "2024-04-29T08:39:51.298204800Z"
    }
   },
   "id": "c6b6890a67c661c7",
   "execution_count": 11
  },
  {
   "cell_type": "code",
   "outputs": [
    {
     "name": "stdout",
     "output_type": "stream",
     "text": [
      "330294 5000\n"
     ]
    }
   ],
   "source": [
    "valid_batch_size = 620\n",
    "train_batch_size = 5000\n",
    "print(train_size, valid_size)"
   ],
   "metadata": {
    "collapsed": false,
    "ExecuteTime": {
     "end_time": "2024-04-29T08:39:53.373402Z",
     "start_time": "2024-04-29T08:39:52.761783300Z"
    }
   },
   "id": "555b0ffa2c33dfca",
   "execution_count": 12
  },
  {
   "cell_type": "markdown",
   "source": [
    "# Preprocess the images"
   ],
   "metadata": {
    "collapsed": false
   },
   "id": "6917a061eb35867f"
  },
  {
   "cell_type": "code",
   "outputs": [],
   "source": [
    "# Fuction to preprocess the img\n",
    "def preprocess(img):\n",
    "    (h, w) = img.shape                                    # Getting the height & width of the image\n",
    "    \n",
    "    final_img = np.ones([64, 256])*255                    # Blank white image\n",
    "    \n",
    "    # crop    \n",
    "    if h > 64:\n",
    "        img = img[:64, :]                                 # If the h>64 then it is cropped to 64\n",
    "        \n",
    "    if w > 256:\n",
    "        img = img[:, :256]                                # If the w>256 then it is cropped to 256\n",
    "    \n",
    "    final_img[:h, :w] = img\n",
    "    return cv2.rotate(final_img, cv2.ROTATE_90_CLOCKWISE) # Rotate 90° Clockwise & return"
   ],
   "metadata": {
    "collapsed": false,
    "ExecuteTime": {
     "end_time": "2024-04-29T08:39:55.617456900Z",
     "start_time": "2024-04-29T08:39:55.328613900Z"
    }
   },
   "id": "4038097a36882cba",
   "execution_count": 13
  },
  {
   "cell_type": "markdown",
   "source": [
    "Preprocess & save test data"
   ],
   "metadata": {
    "collapsed": false
   },
   "id": "8f0bfaaccda6186c"
  },
  {
   "cell_type": "code",
   "outputs": [
    {
     "name": "stdout",
     "output_type": "stream",
     "text": [
      "Processed 1000 images\n",
      "Processed 2000 images\n",
      "Processed 3000 images\n",
      "Processed 4000 images\n",
      "Processed 5000 images\n",
      "Processing complete.\n"
     ]
    }
   ],
   "source": [
    "train_x = []\n",
    "\n",
    "for i in range(train_size):\n",
    "    img_dir = './train_v2/train/' + train.loc[i, 'FILENAME']\n",
    "    image = cv2.imread(img_dir, cv2.IMREAD_GRAYSCALE)\n",
    "    image = preprocess(image)\n",
    "    image = image / 255.0  # Normalize pixel values to [0, 1]\n",
    "    train_x.append(image)\n",
    "    \n",
    "    if (i + 1) % 1000 == 0:\n",
    "        print(f\"Processed {i + 1} images\")\n",
    "\n",
    "print(\"Processing complete.\")"
   ],
   "metadata": {
    "collapsed": false,
    "ExecuteTime": {
     "end_time": "2024-04-27T20:31:47.485909300Z",
     "start_time": "2024-04-27T20:31:20.373852100Z"
    }
   },
   "id": "f5ae99bb67c9788a",
   "execution_count": 27
  },
  {
   "cell_type": "code",
   "outputs": [
    {
     "name": "stdout",
     "output_type": "stream",
     "text": [
      "1\n",
      "2\n",
      "3\n",
      "4\n",
      "5\n",
      "6\n",
      "7\n",
      "8\n",
      "9\n",
      "10\n",
      "11\n",
      "12\n",
      "13\n",
      "14\n",
      "15\n",
      "16\n",
      "17\n",
      "18\n",
      "19\n",
      "20\n",
      "21\n",
      "22\n",
      "23\n",
      "24\n",
      "25\n",
      "26\n",
      "27\n",
      "28\n",
      "29\n",
      "30\n",
      "31\n",
      "32\n",
      "33\n",
      "34\n",
      "35\n",
      "36\n",
      "37\n",
      "38\n",
      "39\n",
      "40\n",
      "41\n",
      "42\n",
      "43\n",
      "44\n",
      "45\n",
      "46\n",
      "47\n",
      "48\n",
      "49\n",
      "50\n",
      "51\n",
      "52\n",
      "53\n",
      "54\n",
      "55\n",
      "56\n",
      "57\n",
      "58\n",
      "59\n",
      "60\n",
      "61\n",
      "62\n",
      "63\n",
      "64\n",
      "65\n",
      "66\n"
     ]
    }
   ],
   "source": [
    "# Split the train_x array into batches of train_batch_size images each\n",
    "batch_size = train_batch_size\n",
    "num_batches = len(train_x) // batch_size\n",
    "remainder = len(train_x) % batch_size\n",
    "\n",
    "start_idx = 0\n",
    "for i in range(num_batches):\n",
    "    end_idx = start_idx + batch_size\n",
    "    # Extract a batch of images\n",
    "    batch_images = train_x[start_idx:end_idx]\n",
    "    # Reshape the batch into the required format (num_images, height, width, channels)\n",
    "    batch_images = np.array(batch_images).reshape(-1, 256, 64, 1)\n",
    "\n",
    "    # Create a folder for the current batch\n",
    "    folder_path = os.path.join('dataset', f'{i + 1}')\n",
    "\n",
    "    # Save the batch to a .npy file\n",
    "    filename = os.path.join(folder_path, f'train_x.npy')\n",
    "    np.save(filename, batch_images)\n",
    "\n",
    "    start_idx = end_idx\n",
    "    \n",
    "    print(i+1)\n",
    "\n",
    "# Process the remaining images\n",
    "if remainder > 0:\n",
    "    # Extract the remaining images\n",
    "    batch_images = train_x[start_idx:]\n",
    "    # Reshape the remaining images into the required format\n",
    "    batch_images = np.array(batch_images).reshape(-1, 256, 64, 1)\n",
    "    # Create a folder for the remaining images\n",
    "    folder_path = os.path.join('dataset', f'{num_batches + 1}')\n",
    "    os.makedirs(folder_path, exist_ok=True)\n",
    "    # Save the remaining images to a .npy file\n",
    "    filename = os.path.join(folder_path, f'train_x.npy')\n",
    "    np.save(filename, batch_images)"
   ],
   "metadata": {
    "collapsed": false,
    "ExecuteTime": {
     "end_time": "2024-04-27T19:11:42.910616900Z",
     "start_time": "2024-04-27T19:06:43.638387700Z"
    }
   },
   "id": "cc38f888fea656ad",
   "execution_count": 76
  },
  {
   "cell_type": "code",
   "outputs": [],
   "source": [
    "# Convert 'train_x' to a NumPy array and reshape it\n",
    "train_x = np.array(train_x).reshape(-1, 256, 64, 1)\n",
    "\n",
    "# np.save('preprocessed_train_v2', train_x)\n",
    "# train_x = np.load('preprocessed_train_v2.npy')"
   ],
   "metadata": {
    "collapsed": false,
    "ExecuteTime": {
     "end_time": "2024-04-27T20:31:55.318658700Z",
     "start_time": "2024-04-27T20:31:54.907463500Z"
    }
   },
   "id": "7ec6988fdd9c7323",
   "execution_count": 28
  },
  {
   "cell_type": "markdown",
   "source": [
    "Preprocess & save valid data"
   ],
   "metadata": {
    "collapsed": false
   },
   "id": "846065b57d8909ef"
  },
  {
   "cell_type": "code",
   "outputs": [
    {
     "name": "stdout",
     "output_type": "stream",
     "text": [
      "Processed 1000 images\n",
      "Processed 2000 images\n",
      "Processed 3000 images\n",
      "Processed 4000 images\n",
      "Processed 5000 images\n",
      "Processing complete.\n"
     ]
    }
   ],
   "source": [
    "valid_x = []\n",
    "\n",
    "for i in range(valid_size):\n",
    "    img_dir = './validation_v2/validation/' + valid.loc[i, 'FILENAME']\n",
    "    image = cv2.imread(img_dir, cv2.IMREAD_GRAYSCALE)\n",
    "    image = preprocess(image)\n",
    "    image = image / 255.0  # Normalize pixel values to [0, 1]\n",
    "    valid_x.append(image)\n",
    "    \n",
    "    if (i + 1) % 1000 == 0:\n",
    "        print(f\"Processed {i + 1} images\")\n",
    "\n",
    "print(\"Processing complete.\")"
   ],
   "metadata": {
    "collapsed": false,
    "ExecuteTime": {
     "end_time": "2024-04-29T08:40:30.900228Z",
     "start_time": "2024-04-29T08:40:02.164145500Z"
    }
   },
   "id": "71b9e9a001aedbbb",
   "execution_count": 14
  },
  {
   "cell_type": "code",
   "outputs": [],
   "source": [
    "# Split the valid_x array into batches of valid_batch_size images each\n",
    "batch_size = valid_batch_size\n",
    "num_batches = len(valid_x) // batch_size\n",
    "remainder = len(valid_x) % batch_size\n",
    "\n",
    "start_idx = 0\n",
    "for i in range(num_batches):\n",
    "    end_idx = start_idx + batch_size\n",
    "    # Extract a batch of images\n",
    "    batch_images = valid_x[start_idx:end_idx]\n",
    "    # Reshape the batch into the required format (num_images, height, width, channels)\n",
    "    batch_images = np.array(batch_images).reshape(-1, 256, 64, 1)\n",
    "\n",
    "    # Create a folder for the current batch\n",
    "    folder_path = os.path.join('dataset', f'{i + 1}')\n",
    "    os.makedirs(folder_path, exist_ok=True)\n",
    "\n",
    "    # Save the batch to a .npy file\n",
    "    filename = os.path.join(folder_path, f'valid_x.npy')\n",
    "    np.save(filename, batch_images)\n",
    "\n",
    "    start_idx = end_idx\n",
    "\n",
    "    print(i+1)\n",
    "# Process the remaining images\n",
    "if remainder > 0:\n",
    "    # Extract the remaining images\n",
    "    batch_images = valid_x[start_idx:]\n",
    "    # Reshape the remaining images into the required format\n",
    "    batch_images = np.array(batch_images).reshape(-1, 256, 64, 1)\n",
    "    # Create a folder for the remaining images\n",
    "    folder_path = os.path.join('dataset', f'{num_batches + 1}')\n",
    "    os.makedirs(folder_path, exist_ok=True)\n",
    "    # Save the remaining images to a .npy file\n",
    "    filename = os.path.join(folder_path, f'valid_x.npy')\n",
    "    np.save(filename, batch_images)"
   ],
   "metadata": {
    "collapsed": false,
    "ExecuteTime": {
     "end_time": "2024-04-27T18:19:25.486302Z",
     "start_time": "2024-04-27T18:19:18.917715500Z"
    }
   },
   "id": "d70c50f86f01d399",
   "execution_count": 70
  },
  {
   "cell_type": "code",
   "outputs": [],
   "source": [
    "# Convert 'valid_x' to a NumPy array and reshape it\n",
    "valid_x = np.array(valid_x).reshape(-1, 256, 64, 1)\n",
    "# np.save('preprocessed_validation_v2', valid_x)\n",
    "# valid_x = np.load('preprocessed_validation_v2')"
   ],
   "metadata": {
    "collapsed": false,
    "ExecuteTime": {
     "end_time": "2024-04-29T08:40:34.706391400Z",
     "start_time": "2024-04-29T08:40:34.433059400Z"
    }
   },
   "id": "fd69d27dc025d9e3",
   "execution_count": 15
  },
  {
   "cell_type": "markdown",
   "source": [
    "# Data Label Preprocess\n",
    "In this section of the code, we perform data label preprocessing for a text recognition task. The goal is to convert text labels into a numerical format for use in train a neural network. Let's break down the key components of this preprocess:\n",
    "\n",
    "Character Set and Constants\n",
    "* alphabets: This string represents the set of valid characters that can appear in the text labels. It includes uppercase letters, hyphen, and space.\n",
    "\n",
    "* max_str_len: This constant defines the maximum length of the input labels.\n",
    "\n",
    "* num_of_characters: The number of unique characters, including an extra one for the CTC pseudo-blank character.\n",
    "\n",
    "* num_of_timestamps: The maximum length of predicted labels.\n",
    "\n",
    "# Label-to-Number Conversion\n",
    "* label_to_num(label): This function converts a text label to a numerical representation. It initializes an empty list to store character indices and iterates over each character in the input label. For each character, it finds the index in the alphabets string and appends it to the list. The function returns a NumPy array with the numerical representation of the label.\n",
    "* Number-to-Label Conversion\n",
    "num_to_label(num): This function converts a list of numerical values back to a text label. It iterates over each character index in the input list, checks for the CTC blank character (-1), and appends the corresponding character from alphabets to the output string.\n",
    "\n",
    "# Initialization of Arrays\n",
    "Several arrays are initialized to store the preprocessed labels and related information for both training and validation datasets. These include:\n",
    "\n",
    "* train_y: An array to store the converted labels for the training dataset.\n",
    "\n",
    "* train_label_len: An array to store the length of labels for each data point in the training dataset.\n",
    "\n",
    "* train_input_len: An array to store the input length for each data point in the training dataset.\n",
    "\n",
    "* train_output: An array to store training data outputs (usually used for CTC loss).\n",
    "\n",
    "# Data Processing\n",
    "A loop is used to process both the training and validation datasets. Within the loop:\n",
    "\n",
    "* The 'IDENTITY' value from the dataset is retrieved and converted to a string if it's not already.\n",
    "\n",
    "* The label length is set and label values are stored in the corresponding arrays (train_y for training and valid_y for validation)."
   ],
   "metadata": {
    "collapsed": false
   },
   "id": "6587adc96df668f5"
  },
  {
   "cell_type": "code",
   "outputs": [],
   "source": [
    "alphabets = \"ABCDEFGHIJKLMNOPQRSTUVWXYZ-' \"  # The set of valid characters\n",
    "max_str_len = 34                             # Maximum length of input labels\n",
    "num_of_characters = len(alphabets) + 1       # Number of unique characters, plus 1 for CTC pseudo-blank\n",
    "num_of_timestamps = 64                       # The maximum length of predicted labels"
   ],
   "metadata": {
    "collapsed": false,
    "ExecuteTime": {
     "end_time": "2024-04-29T08:41:17.520250900Z",
     "start_time": "2024-04-29T08:41:17.487989Z"
    }
   },
   "id": "5684daf84ae57ef3",
   "execution_count": 19
  },
  {
   "cell_type": "code",
   "outputs": [],
   "source": [
    "def label_to_num(label):\n",
    "    return np.array([alphabets.find(ch) for ch in label])"
   ],
   "metadata": {
    "collapsed": false,
    "ExecuteTime": {
     "end_time": "2024-04-29T08:41:17.997271700Z",
     "start_time": "2024-04-29T08:41:17.946137600Z"
    }
   },
   "id": "af14ba8429529fbd",
   "execution_count": 20
  },
  {
   "cell_type": "code",
   "outputs": [],
   "source": [
    "def num_to_label(num):\n",
    "    return ''.join([alphabets[ch] for ch in num if ch != -1])"
   ],
   "metadata": {
    "collapsed": false,
    "ExecuteTime": {
     "end_time": "2024-04-29T08:41:18.515751200Z",
     "start_time": "2024-04-29T08:41:18.479494500Z"
    }
   },
   "id": "bd8e4a58d6893a04",
   "execution_count": 21
  },
  {
   "cell_type": "code",
   "outputs": [
    {
     "name": "stdout",
     "output_type": "stream",
     "text": [
      "[19  0 19  8  0] \n",
      " TATIA\n"
     ]
    }
   ],
   "source": [
    "# Example\n",
    "name = 'TATIA'\n",
    "name_num = label_to_num(name)\n",
    "print(name_num,'\\n', num_to_label(name_num))"
   ],
   "metadata": {
    "collapsed": false,
    "ExecuteTime": {
     "end_time": "2024-04-29T08:41:18.941677900Z",
     "start_time": "2024-04-29T08:41:18.893647600Z"
    }
   },
   "id": "9ab6770bc6f5763",
   "execution_count": 22
  },
  {
   "cell_type": "code",
   "outputs": [],
   "source": [
    "blank_label = -1"
   ],
   "metadata": {
    "collapsed": false,
    "ExecuteTime": {
     "end_time": "2024-04-28T21:47:26.825982600Z",
     "start_time": "2024-04-28T21:47:26.786635700Z"
    }
   },
   "id": "49d77849f8a66a55",
   "execution_count": 107
  },
  {
   "cell_type": "code",
   "outputs": [],
   "source": [
    "# Initialize arrays\n",
    "train_y = np.ones([train_size, max_str_len]) * blank_label\n",
    "train_label_len = np.zeros([train_size, 1])\n",
    "train_input_len = np.ones([train_size, 1]) * (num_of_timestamps - 2)\n",
    "train_output = np.zeros([train_size])\n",
    "\n",
    "# Loop through the training data\n",
    "for i in range(train_size):\n",
    "    # Get the 'IDENTITY' value and convert it to a string if it's not already\n",
    "    identity = train.loc[i, 'IDENTITY']\n",
    "    if not isinstance(identity, str):\n",
    "        identity = str(identity)\n",
    "    \n",
    "    # Set the label length and label values in train_y\n",
    "    train_label_len[i] = len(identity)\n",
    "    \n",
    "    # Assuming label_to_num is a function that converts characters to numerical values\n",
    "    train_y[i, 0:len(identity)] = label_to_num(identity)"
   ],
   "metadata": {
    "collapsed": false,
    "ExecuteTime": {
     "end_time": "2024-04-27T20:32:12.561933300Z",
     "start_time": "2024-04-27T20:32:12.479082100Z"
    }
   },
   "id": "de0738200ef911a8",
   "execution_count": 36
  },
  {
   "cell_type": "code",
   "outputs": [
    {
     "name": "stdout",
     "output_type": "stream",
     "text": [
      "1\n",
      "2\n",
      "3\n",
      "4\n",
      "5\n",
      "6\n",
      "7\n",
      "8\n",
      "9\n",
      "10\n",
      "11\n",
      "12\n",
      "13\n",
      "14\n",
      "15\n",
      "16\n",
      "17\n",
      "18\n",
      "19\n",
      "20\n",
      "21\n",
      "22\n",
      "23\n",
      "24\n",
      "25\n",
      "26\n",
      "27\n",
      "28\n",
      "29\n",
      "30\n",
      "31\n",
      "32\n",
      "33\n",
      "34\n",
      "35\n",
      "36\n",
      "37\n",
      "38\n",
      "39\n",
      "40\n",
      "41\n",
      "42\n",
      "43\n",
      "44\n",
      "45\n",
      "46\n",
      "47\n",
      "48\n",
      "49\n",
      "50\n",
      "51\n",
      "52\n",
      "53\n",
      "54\n",
      "55\n",
      "56\n",
      "57\n",
      "58\n",
      "59\n",
      "60\n",
      "61\n",
      "62\n",
      "63\n",
      "64\n",
      "65\n",
      "66\n"
     ]
    }
   ],
   "source": [
    "batch_size = train_batch_size\n",
    "\n",
    "# Iterate through each folder\n",
    "for i in range(1, 67):\n",
    "    folder_path = os.path.join('dataset', str(i))\n",
    "\n",
    "    batch_train_y = np.ones([batch_size, max_str_len]) * blank_label\n",
    "    batch_train_label_len = np.zeros([batch_size, 1])\n",
    "    batch_train_input_len = np.ones([batch_size, 1]) * (num_of_timestamps - 2)\n",
    "    batch_train_output = np.zeros([batch_size])\n",
    "    \n",
    "    # Loop through the training data\n",
    "    for j in range(batch_size):\n",
    "        # Get the 'IDENTITY' value and convert it to a string if it's not already\n",
    "        identity = train.loc[(batch_size * (i-1)) + j, 'IDENTITY']\n",
    "        if not isinstance(identity, str):\n",
    "            identity = str(identity)\n",
    "        \n",
    "        # Set the label length and label values in train_y\n",
    "        batch_train_label_len[j] = len(identity)\n",
    "        \n",
    "        # Assuming label_to_num is a function that converts characters to numerical values\n",
    "        batch_train_y[j, 0:len(identity)] = label_to_num(identity)\n",
    "\n",
    "    # Save data in the folder\n",
    "    np.save(os.path.join(folder_path, 'train_y.npy'), batch_train_y)\n",
    "    np.save(os.path.join(folder_path, 'train_label_len.npy'), batch_train_label_len)\n",
    "    np.save(os.path.join(folder_path, 'train_input_len.npy'), batch_train_input_len)\n",
    "    np.save(os.path.join(folder_path, 'train_output.npy'), batch_train_output)\n",
    "    \n",
    "    print(i)"
   ],
   "metadata": {
    "collapsed": false,
    "ExecuteTime": {
     "end_time": "2024-04-27T21:01:40.463793100Z",
     "start_time": "2024-04-27T21:01:35.952215Z"
    }
   },
   "id": "6db8064b1333c55",
   "execution_count": 70
  },
  {
   "cell_type": "code",
   "outputs": [
    {
     "name": "stdout",
     "output_type": "stream",
     "text": [
      "BILEL\n",
      "LAUMIONIER\n",
      "LEA\n",
      "JEAN-ROCH\n",
      "RUPP\n",
      "PICHON\n",
      "DANIEL\n",
      "JEREMY\n",
      "JEAN-MICHEL\n",
      "JULIEN\n",
      "NAEL\n",
      "BILGER\n",
      "TIFFANY\n",
      "ELEEN\n",
      "ANTOINE\n",
      "AYOUB\n",
      "MINETTE\n",
      "RAINGEVAL\n",
      "CELESTIN\n",
      "DIBENEDETTO\n",
      "MATHIS\n",
      "LOUNA\n",
      "SEVESTRE\n",
      "DAVANLAY\n",
      "HOCQUARD\n",
      "LEBRUN\n",
      "DABIN\n",
      "SENDOUBI\n",
      "DI PASQUALE\n",
      "PRIVAT\n",
      "HUGO\n",
      "MAONI\n",
      "COTTIGNY\n",
      "SARRAZIN\n",
      "FRERE\n",
      "MONSOH\n",
      "BELMERROUBICARRO\n",
      "CLEMENT\n",
      "ALLEMBRAND\n",
      "CASSANORA\n",
      "VIEILLE\n",
      "VAUTIER\n",
      "LOUISE\n",
      "DUTARR ICR\n",
      "ENNIO\n",
      "ALYSSIA\n",
      "RUIZ\n",
      "LIZANA\n",
      "CAMILLE\n",
      "JULIE\n",
      "ELIA\n",
      "AXEL\n",
      "ANTOINE\n",
      "NION\n",
      "RICHARD\n",
      "COONAC\n",
      "DAVOULT\n",
      "SAAD\n",
      "DUBOIS\n",
      "NAU\n",
      "JULIEN\n",
      "BENET\n",
      "DAVID\n",
      "THOMAS\n",
      "VAILLANT\n",
      "JOAO\n",
      "LYLOU\n",
      "CARA\n",
      "TABUT\n",
      "PELLETIER\n",
      "AUTRET\n",
      "CHECROUN\n",
      "VASSEUR\n",
      "FAURE\n",
      "EMMA\n",
      "ARTHUR\n",
      "FRIMIN\n",
      "ANAELLE\n",
      "DYEAN\n",
      "RAPHEL\n",
      "VANTOMME\n",
      "OMNES\n",
      "ANTOINE\n",
      "ANDRANIK\n",
      "LUCAS\n",
      "CELIA\n",
      "LOURENCO\n",
      "MAYLIS\n",
      "LUCIE\n",
      "DEBARD\n",
      "DEPAQUY\n",
      "VERHILLE\n",
      "SORRESE\n",
      "HUGO\n",
      "CRUSSIERE\n",
      "THEANA\n",
      "LEDROLE\n",
      "BERNARD\n",
      "VALENTINE\n",
      "GABRIELLE\n",
      "CLOE\n",
      "BONNE\n",
      "ELGUOFA\n",
      "MORGANE\n",
      "ROZENN\n",
      "DYLAN\n",
      "ANTHONY\n",
      "LEA\n",
      "WALID\n",
      "HEDDEBAUX\n",
      "LUCAS\n",
      "TEO\n",
      "DEMEESTERE\n",
      "CAGGANDRO\n",
      "CHIO\n",
      "DO ROSARIO\n",
      "JAHIER\n",
      "DIANA\n",
      "FRENOT\n",
      "VIDAL\n",
      "COMBE\n",
      "PERITO\n",
      "CHIPRET\n",
      "CAMPOLO\n",
      "EL FETOUVAKI\n",
      "JUSTIN\n",
      "SPLENE\n",
      "GEHAN\n",
      "LOU-ANNE\n",
      "LEITAO PEREIRA\n",
      "AXEL\n",
      "HOUDOT-HERRING\n",
      "ASNARD\n",
      "MASSINE\n",
      "NOE\n",
      "SALLOT\n",
      "SIDIKI\n",
      "CLEMENCE\n",
      "ELYCIA\n",
      "LISA\n",
      "LE CAM\n",
      "GOLGOLAB\n",
      "BRICE\n",
      "RANBAUD\n",
      "ROMANE\n",
      "GELOEN\n",
      "NINE\n",
      "MAHE\n",
      "MAYRA\n",
      "PIGA\n",
      "CACHOT\n",
      "ABDELKARIM\n",
      "GENDRON\n",
      "CASSIOPEE\n",
      "ROBIN\n",
      "MANON\n",
      "TIMOTHEE\n",
      "LEMARIE\n",
      "OLIVIER\n",
      "BOUBTANA\n",
      "PIERRE\n",
      "SOPHIE\n",
      "FONSECA\n",
      "LUCZKOW\n",
      "ALYSON\n",
      "PAMELA\n",
      "COLOVIC\n",
      "VOINCHET\n",
      "KAWTAR\n",
      "BINAULT\n",
      "BAKOUR\n",
      "FOLIARD\n",
      "LECOMTE\n",
      "BUSIN\n",
      "PARRET\n",
      "MADELINE\n",
      "NOT\n",
      "GUENOLE\n",
      "EMPTY\n",
      "JOBIN\n",
      "BUTEZ\n",
      "LOUIS-AUXENCE\n",
      "SIXTINE\n",
      "GAMBIER\n",
      "ELHADI\n",
      "CYRIL\n",
      "EMMA\n",
      "GAUTIER\n",
      "DEL PRETE\n",
      "CLARA\n",
      "BLONDEAU\n",
      "SOEZIC MARIE\n",
      "NDIAA\n",
      "MATTEO\n",
      "ADRIEN\n",
      "ILYAS\n",
      "TRUMEAU\n",
      "PONTVERT-DELUCQ\n",
      "JIM\n",
      "CAKIR\n",
      "AYSSATOU\n",
      "AUBRY\n",
      "TITOUAN\n",
      "METSCHIES\n",
      "FRASILE\n",
      "ZIA\n",
      "CHARBONNEAUX\n",
      "ALEXIS\n",
      "PERRCT\n",
      "CROZAT\n",
      "GUYLANN\n",
      "ACHILLE\n",
      "WLODARCZYK\n",
      "AHANDINE\n",
      "TESTAERT\n",
      "PAUL\n",
      "THOMAS\n",
      "AYMERIC\n",
      "TOM-ELLIOT\n",
      "MATEO\n",
      "GUILMEM\n",
      "ROMANE\n",
      "LOUEDIN\n",
      "CAMILLE\n",
      "DE AMORIM\n",
      "ALLAN\n",
      "VALENTIN\n",
      "SARBOU\n",
      "DE RICARD ESTEBA\n",
      "ELODIE\n",
      "BEYOU\n",
      "DESMURGER\n",
      "DENIS\n",
      "VALERIAN\n",
      "MELINE\n",
      "SCHNEIDER\n",
      "LOGAN\n",
      "MATEO\n",
      "BILLARD\n",
      "MAHESWARAN\n",
      "SCAGLIONE\n",
      "CAPUCINE\n",
      "DSEHA\n",
      "ANDRIEUX\n",
      "VEREL\n",
      "PARADOWSKI\n",
      "FLORIAN\n",
      "RYAN\n",
      "TOM\n",
      "LILOU\n",
      "JULIEN\n",
      "THOMAS\n",
      "LOUIS\n",
      "LEA\n",
      "JEAN - XAUIER\n",
      "QUENTIN\n",
      "COURJON\n",
      "LEHU\n",
      "HOUGHE\n",
      "AYMERIC\n",
      "PELLETIER\n",
      "LEHEBEL\n",
      "ELODIE\n",
      "YOUF\n",
      "FLAVIGNY\n",
      "DEBARNOT\n",
      "HUGO\n",
      "CHRISTOPHE\n",
      "BENOTT\n",
      "SAIDA\n",
      "OLIVIER\n",
      "SCHWARTZ\n",
      "ALYSSA\n",
      "AL SADDI\n",
      "MATHILDE\n",
      "AXELLE\n",
      "COMBAREL\n",
      "MARTIN\n",
      "AYEB\n",
      "LANCEAU\n",
      "HATHILDE\n",
      "DAPHNE\n",
      "MATEO\n",
      "BELIN\n",
      "JACQUES\n",
      "FOURNET\n",
      "AUGUSTE\n",
      "AMELIE\n",
      "CLEMENT\n",
      "ABBYGAELLE\n",
      "DALLIER\n",
      "ALEXIS\n",
      "IBOUZITEN\n",
      "OKAKO OKITO\n",
      "MATHIEU\n",
      "MARGOT\n",
      "ANTOINE\n",
      "LOGANE\n",
      "YUSUF\n",
      "BORDIER\n",
      "BLONDE\n",
      "LAURY\n",
      "LOBSANG\n",
      "ROMAIN\n",
      "ANNA\n",
      "CACAU\n",
      "NAIS\n",
      "PUECH\n",
      "EDMOND\n",
      "JULIETTE\n",
      "PIERRE\n",
      "LEBOBE\n",
      "GARRIGUES\n",
      "PAUL\n",
      "TALLULAH\n",
      "RIGAULT\n",
      "REBOULET\n",
      "LESUR\n",
      "MORIN\n",
      "THIBAULT\n",
      "NINO\n",
      "LE MORVAN\n",
      "FRANCOIS\n",
      "GROENEN\n",
      "VAURY\n",
      "AURELIEN\n",
      "AIT KADOUR\n",
      "PAUL\n",
      "HUNSINGER\n",
      "FIEUIERES\n",
      "CORALIE\n",
      "CHLOE\n",
      "MASSERON\n",
      "EVA\n",
      "ELONDJA\n",
      "FLORIAN\n",
      "RAMY\n",
      "MELINDA\n",
      "LAURA\n",
      "DEUAUD\n",
      "CLARA\n",
      "ANAIS\n",
      "CELIA\n",
      "SUDRE\n",
      "ADELE\n",
      "LINCK\n",
      "CRESSIOT\n",
      "LECOMTE\n",
      "JADE\n",
      "DOMINGUEZ\n",
      "MARGAUX\n",
      "DANDINE\n",
      "LEA\n",
      "TILLY\n",
      "ZOLLINGER\n",
      "JULIE\n",
      "YEPHO\n",
      "SALAUN\n",
      "SCOULBREQUE\n",
      "LUCAS\n",
      "COLIN\n",
      "GARCIA\n",
      "AIT HAMID\n",
      "DERINH\n",
      "COURTELLEMONT\n",
      "CARLA\n",
      "LAURIE\n",
      "TESSA\n",
      "DIABIRA\n",
      "BA\n",
      "BOULINEAU\n",
      "AIKO\n",
      "NATHAN\n",
      "MANON\n",
      "MERIGON\n",
      "CLAVEL\n",
      "VANDENABEELE\n",
      "LE FRIEC\n",
      "QUENTIN\n",
      "ROCHE\n",
      "ROBERTIES\n",
      "SHANA\n",
      "ALEXANDRE\n",
      "CLEMENT\n",
      "MARTIN\n",
      "CLEMENT\n",
      "TOUPIN\n",
      "FANETTE\n",
      "GUILLERY\n",
      "SOFIA\n",
      "ALEXIS\n",
      "CLERC\n",
      "FLAVIE\n",
      "LUCIE\n",
      "MEYER\n",
      "CLAUDINE\n",
      "DELAVIGNE\n",
      "ANAELLE\n",
      "CLARA\n",
      "TIFEAU\n",
      "ALICIA\n",
      "LEGRAND\n",
      "COLINOT\n",
      "GERAUD\n",
      "TROISMOULINS\n",
      "DO VALE\n",
      "PEZOT\n",
      "BALOUZAT\n",
      "ELISE\n",
      "VICTORIA\n",
      "LEBON\n",
      "LEBORMAL\n",
      "ROQUELAURE\n",
      "THERET\n",
      "BASTWOLUK\n",
      "LAURINE\n",
      "EDOUARD\n",
      "CLARA\n",
      "PONTET\n",
      "OSCAR\n",
      "LEONIE\n",
      "CARVALHO\n",
      "PERROIS\n",
      "TITOVAN\n",
      "MALO\n",
      "EVAN\n",
      "SAMI\n",
      "DANIEL\n",
      "KHOURY\n",
      "DOMINGUES\n",
      "AURELIE\n",
      "REMI\n",
      "PIERREFEU\n",
      "OURY\n",
      "LOU\n",
      "FELIX\n",
      "LOPEZ\n",
      "CHEHINEL\n",
      "OMRI\n",
      "LUCAS\n",
      "GABRIEL\n",
      "LEBOIS\n",
      "PELICO\n",
      "GAUDET\n",
      "PHILIPPE\n",
      "MARBOEUF\n",
      "MARIE\n",
      "RICHARD\n",
      "THOMAS\n",
      "CHOPIN\n",
      "BEAUVERGER\n",
      "YANNIS\n",
      "FILLIERES\n",
      "ELIAS\n",
      "CHAIMAE\n",
      "COLINE\n",
      "JEREMY\n",
      "AST\n",
      "KHADIM - SOPHANE\n",
      "LOYEZ\n",
      "ALEXANDRE\n",
      "LOREA\n",
      "KIJUN\n",
      "GRILLOT\n",
      "LECOINTRE\n",
      "ALICIA\n",
      "KOYAGA\n",
      "LECONTE\n",
      "VINES\n",
      "VALLON\n",
      "DENECHAU\n",
      "BLANC\n",
      "VICK\n",
      "COTARD\n",
      "LEONIE\n",
      "AMIBRE\n",
      "AIBRIL\n",
      "RENON\n",
      "VALENTINE\n",
      "KELLY\n",
      "ANTONYLAOREN\n",
      "PERBET\n",
      "VIRGILE\n",
      "BENJAMIN\n",
      "PETIMAT\n",
      "LEONORE\n",
      "SANS\n",
      "ELISA\n",
      "JULIEN\n",
      "GABIN\n",
      "MOHAMED\n",
      "TKEBUCHAVA\n",
      "AXELLE\n",
      "LIBEER\n",
      "BAUDRY\n",
      "SILOE\n",
      "SIMON\n",
      "CLACEAU\n",
      "BILLAUDAZ\n",
      "PERROT\n",
      "MORANDDEJPUFFREY\n",
      "MANILLE\n",
      "JULES\n",
      "GORON\n",
      "ANTONE\n",
      "QUENTIN\n",
      "AUFFRET\n",
      "DIANE\n",
      "ARAB\n",
      "LEPENIEC\n",
      "LETESSIER\n",
      "TOM\n",
      "EMIE\n",
      "YANN\n",
      "CELESTINE\n",
      "CLEMENT\n",
      "LISE\n",
      "LORA\n",
      "ADONIS\n",
      "GRELET\n",
      "AGNES\n",
      "JULIETTE\n",
      "MARIEHONDARY\n",
      "SOPHIE\n",
      "MILLET\n",
      "NTOUTOUME\n",
      "ALEXANDRA\n",
      "COLLIGNON\n",
      "CERVEAUX\n",
      "BOURG\n",
      "ETIENNE\n",
      "MAELLE\n",
      "MIRINA\n",
      "LIA\n",
      "BERNARD\n",
      "OUDIN\n",
      "VELENTIN\n",
      "ERINE\n",
      "SOUMAMES\n",
      "CHARLOTTE\n",
      "FALAGUASTA\n",
      "AICHA\n",
      "CHAUVEL\n",
      "EDEN\n",
      "CASTILLO SOLER\n",
      "THENOZ\n",
      "ACKET\n",
      "ROMY\n",
      "BURDES\n",
      "LOIC\n",
      "LEO\n",
      "FLORA-MARIE\n",
      "LAVOCAT\n",
      "MASART\n",
      "JORAN\n",
      "DARYL\n",
      "GOHAR\n",
      "KHALIDA\n",
      "DARIUS\n",
      "LOUIS\n",
      "BARRIERE\n",
      "GUILLAUD\n",
      "ELISA\n",
      "MICHEL\n",
      "HATTHIEU\n",
      "COLLET\n",
      "MATHILDE\n",
      "DUDOGNON\n",
      "HUGO\n",
      "BERTHAULE\n",
      "OUAKRIM\n",
      "REMY\n",
      "JANS\n",
      "FORTOUL\n",
      "LEMALE\n",
      "MABILLE\n",
      "MAISSANE\n",
      "CALVEZ\n",
      "BERTRAND\n",
      "VIGNAUD\n",
      "GARDISSAT\n",
      "LAMORT\n",
      "HERBE\n",
      "CORDA\n",
      "MATHYS\n",
      "EVY\n",
      "SANDRA\n",
      "LAURE\n",
      "EMPTY\n",
      "IAHPOT\n",
      "EPSY\n",
      "JULIA\n",
      "MAIRET\n",
      "JULIA\n",
      "MARIN\n",
      "GABIN\n",
      "LORIS\n",
      "BREHAUT\n",
      "CONAN\n",
      "BENIER\n",
      "ETHAN\n",
      "LAKHAL\n",
      "DYLAN\n",
      "DOMINIQUE\n",
      "MIGNET\n",
      "DOUARIN\n",
      "EMMA\n",
      "CARNEIRO\n",
      "CAUX\n",
      "PLUMEJAULT\n",
      "FLAVIE\n",
      "OUMEIMA\n",
      "SAMARSKY\n",
      "LISA\n",
      "VALENTINO\n",
      "SAGNIERDONOSO\n",
      "MATTHIEU\n",
      "PIERRE-LOUIS\n",
      "EMMY ROSE\n",
      "BUISINE\n"
     ]
    }
   ],
   "source": [
    "# Initialize arrays for validation data\n",
    "valid_y = np.ones([valid_size, max_str_len]) * blank_label\n",
    "valid_label_len = np.zeros([valid_size, 1])\n",
    "valid_input_len = np.ones([valid_size, 1]) * (num_of_timestamps - 2)\n",
    "valid_output = np.zeros([valid_size])\n",
    "\n",
    "# Loop through the validation data\n",
    "for i in range(valid_size):\n",
    "    # Get the 'IDENTITY' value and convert it to a string if it's not already\n",
    "    identity = valid.loc[i, 'IDENTITY']\n",
    "    if not isinstance(identity, str):\n",
    "        identity = str(identity)\n",
    "    \n",
    "    # Set the label length and label values in valid_y\n",
    "    valid_label_len[i] = len(identity)\n",
    "    \n",
    "    # Assuming label_to_num is a function that converts characters to numerical values\n",
    "    valid_y[i, 0:len(identity)] = label_to_num(identity)"
   ],
   "metadata": {
    "collapsed": false,
    "ExecuteTime": {
     "end_time": "2024-04-27T20:58:32.897567800Z",
     "start_time": "2024-04-27T20:58:32.841682700Z"
    }
   },
   "id": "b4db3c237dc66b00",
   "execution_count": 60
  },
  {
   "cell_type": "code",
   "outputs": [
    {
     "name": "stdout",
     "output_type": "stream",
     "text": [
      "1\n",
      "2\n",
      "3\n",
      "4\n",
      "5\n",
      "6\n",
      "7\n",
      "8\n",
      "9\n",
      "10\n",
      "11\n",
      "12\n",
      "13\n",
      "14\n",
      "15\n",
      "16\n",
      "17\n",
      "18\n",
      "19\n",
      "20\n",
      "21\n",
      "22\n",
      "23\n",
      "24\n",
      "25\n",
      "26\n",
      "27\n",
      "28\n",
      "29\n",
      "30\n",
      "31\n",
      "32\n",
      "33\n",
      "34\n",
      "35\n",
      "36\n",
      "37\n",
      "38\n",
      "39\n",
      "40\n",
      "41\n",
      "42\n",
      "43\n",
      "44\n",
      "45\n",
      "46\n",
      "47\n",
      "48\n",
      "49\n",
      "50\n",
      "51\n",
      "52\n",
      "53\n",
      "54\n",
      "55\n",
      "56\n",
      "57\n",
      "58\n",
      "59\n",
      "60\n",
      "61\n",
      "62\n",
      "63\n",
      "64\n",
      "65\n",
      "66\n"
     ]
    }
   ],
   "source": [
    "batch_size = valid_batch_size\n",
    "\n",
    "# Iterate through each folder\n",
    "for i in range(1, 67):\n",
    "    folder_path = os.path.join('dataset', str(i))\n",
    "\n",
    "    batch_valid_y = np.ones([batch_size, max_str_len]) * blank_label\n",
    "    batch_valid_label_len = np.zeros([batch_size, 1])\n",
    "    batch_valid_input_len = np.ones([batch_size, 1]) * (num_of_timestamps - 2)\n",
    "    batch_valid_output = np.zeros([batch_size])\n",
    "    \n",
    "    # Loop through the training data\n",
    "    for j in range(batch_size):\n",
    "        # Get the 'IDENTITY' value and convert it to a string if it's not already\n",
    "        identity = valid.loc[((batch_size * (i-1)) + j), 'IDENTITY']\n",
    "        if not isinstance(identity, str):\n",
    "            identity = str(identity)\n",
    "        # Set the label length and label values in train_y\n",
    "        batch_valid_label_len[j] = len(identity)\n",
    "        \n",
    "        # Assuming label_to_num is a function that converts characters to numerical values\n",
    "        batch_valid_y[j, 0:len(identity)] = label_to_num(identity)\n",
    "\n",
    "    # Save data in the folder\n",
    "    np.save(os.path.join(folder_path, 'valid_y.npy'), batch_valid_y)\n",
    "    np.save(os.path.join(folder_path, 'valid_label_len.npy'), batch_valid_label_len)\n",
    "    np.save(os.path.join(folder_path, 'valid_input_len.npy'), batch_valid_input_len)\n",
    "    np.save(os.path.join(folder_path, 'valid_output.npy'), batch_valid_output)\n",
    "    \n",
    "    print(i)"
   ],
   "metadata": {
    "collapsed": false,
    "ExecuteTime": {
     "end_time": "2024-04-27T21:01:53.585874100Z",
     "start_time": "2024-04-27T21:01:52.898024Z"
    }
   },
   "id": "1f18775aa647d718",
   "execution_count": 71
  },
  {
   "cell_type": "code",
   "outputs": [
    {
     "ename": "NameError",
     "evalue": "name 'train_y' is not defined",
     "output_type": "error",
     "traceback": [
      "\u001B[1;31m---------------------------------------------------------------------------\u001B[0m",
      "\u001B[1;31mNameError\u001B[0m                                 Traceback (most recent call last)",
      "Cell \u001B[1;32mIn[17], line 1\u001B[0m\n\u001B[1;32m----> 1\u001B[0m \u001B[38;5;28mprint\u001B[39m(\u001B[38;5;124m'\u001B[39m\u001B[38;5;124mTrue label : \u001B[39m\u001B[38;5;124m'\u001B[39m,train\u001B[38;5;241m.\u001B[39mloc[\u001B[38;5;241m4\u001B[39m, \u001B[38;5;124m'\u001B[39m\u001B[38;5;124mIDENTITY\u001B[39m\u001B[38;5;124m'\u001B[39m] , \u001B[38;5;124m'\u001B[39m\u001B[38;5;130;01m\\n\u001B[39;00m\u001B[38;5;124mtrain_y : \u001B[39m\u001B[38;5;124m'\u001B[39m,\u001B[43mtrain_y\u001B[49m[\u001B[38;5;241m4\u001B[39m],\u001B[38;5;124m'\u001B[39m\u001B[38;5;130;01m\\n\u001B[39;00m\u001B[38;5;124mtrain_label_len : \u001B[39m\u001B[38;5;124m'\u001B[39m,train_label_len[\u001B[38;5;241m4\u001B[39m], \n\u001B[0;32m      2\u001B[0m       \u001B[38;5;124m'\u001B[39m\u001B[38;5;130;01m\\n\u001B[39;00m\u001B[38;5;124mtrain_input_len : \u001B[39m\u001B[38;5;124m'\u001B[39m, train_input_len[\u001B[38;5;241m4\u001B[39m])\n",
      "\u001B[1;31mNameError\u001B[0m: name 'train_y' is not defined"
     ]
    }
   ],
   "source": [
    "print('True label : ',train.loc[4, 'IDENTITY'] , '\\ntrain_y : ',train_y[4],'\\ntrain_label_len : ',train_label_len[4], \n",
    "      '\\ntrain_input_len : ', train_input_len[4])"
   ],
   "metadata": {
    "collapsed": false,
    "ExecuteTime": {
     "end_time": "2024-04-28T18:04:04.932470200Z",
     "start_time": "2024-04-28T18:04:03.213136200Z"
    }
   },
   "id": "1c763ea49f901173",
   "execution_count": 17
  },
  {
   "cell_type": "markdown",
   "source": [
    "\n",
    "# Build The Model\n",
    "\n",
    "# Convolutional Recurrent Neural Network (CRNN) Architecture¶\n",
    "In this code snippet, we define a Convolutional Recurrent Neural Network (CRNN) model for processing grayscale images with a shape of (256, 64, 1). This architecture combines both convolutional and recurrent layers, making it suitable for various tasks, such as text recognition in images.\n",
    "\n",
    "Let's break down the components of this model:\n",
    "\n",
    "# Input Layer\n",
    "The model starts with an input layer that is designed to accept grayscale images with dimensions of 256x64 pixels.\n",
    "\n",
    "# Convolutional Layers\n",
    "* Convolutional Layer 1: This layer applies 32 filters with a (3, 3) kernel, 'same' padding, and He normal initialization. It is followed by batch normalization, ReLU activation, and max-pooling with a (2, 2) pool size.\n",
    "\n",
    "* Convolutional Layer 2: Similar to the first layer, but with 64 filters.\n",
    "\n",
    "* Convolutional Layer 3: This layer has 128 filters, followed by batch normalization, ReLU activation, and max-pooling with a (1, 2) pool size. Dropout with a rate of 0.3 is also applied.\n",
    "\n",
    "# Reshape Layer\n",
    "After the convolutional layers, the output is reshaped to have a target shape of (64, 1024). This reshaped output is then fed into the recurrent layers.\n",
    "\n",
    "# Fully Connected Layer¶\n",
    "A fully connected layer with 64 units and ReLU activation is applied to the reshaped output.\n",
    "\n",
    "# Bidirectional LSTM Layers\n",
    "Two bidirectional Long Short-Term Memory (LSTM) layers with 256 units each are used. These layers return sequences and are essential for handling sequential data, making them suitable for tasks like text recognition.\n",
    "\n",
    "# Output Layer\n",
    "The output layer consists of a dense layer with the number of characters as the output units. The softmax activation function is applied to produce probabilities for each character in the output sequence.\n",
    "\n",
    "# Model Creation\n",
    "The model is created using the Keras Functional API, with the input and output layers specified.\n",
    "\n",
    "# Model Summary¶\n",
    "Finally, the code provides a summary of the model architecture, displaying the layers, their shapes, and the number of parameters."
   ],
   "metadata": {
    "collapsed": false
   },
   "id": "9db3b33e1c69f907"
  },
  {
   "cell_type": "code",
   "outputs": [
    {
     "name": "stdout",
     "output_type": "stream",
     "text": [
      "WARNING:tensorflow:From C:\\Users\\User\\anaconda3\\envs\\tf\\lib\\site-packages\\tensorflow\\python\\compat\\v2_compat.py:107: disable_resource_variables (from tensorflow.python.ops.variable_scope) is deprecated and will be removed in a future version.\n",
      "Instructions for updating:\n",
      "non-resource variables are not supported in the long term\n"
     ]
    }
   ],
   "source": [
    "#tf.compat.v1.disable_eager_execution()\n",
    "#tf.compat.v1.disable_v2_behavior()\n",
    "#comet com\n",
    "#model.run_eagerly = False\n",
    "#tf.compat.v1.experimental.output_all_intermediates(True)"
   ],
   "metadata": {
    "collapsed": false,
    "ExecuteTime": {
     "end_time": "2024-04-28T19:41:06.295414900Z",
     "start_time": "2024-04-28T19:41:06.227595Z"
    }
   },
   "id": "4e06e9ba04f747fd",
   "execution_count": 41
  },
  {
   "cell_type": "code",
   "outputs": [],
   "source": [
    "# Define the input layer with a shape of (256, 64, 1) for grayscale images\n",
    "input_data = Input(shape=(256, 64, 1), name='input')\n",
    "\n",
    "# Convolutional Layer 1: 32 filters, (3, 3) kernel, 'same' padding, He normal initialization\n",
    "inner = Conv2D(32, (3, 3), padding='same', name='conv1', kernel_initializer='he_normal')(input_data)\n",
    "inner = BatchNormalization()(inner)                         # Batch normalization\n",
    "inner = Activation('relu')(inner)                           # ReLU activation\n",
    "inner = MaxPooling2D(pool_size=(2, 2), name='max1')(inner)  # Max-pooling\n",
    "\n",
    "# Convolutional Layer 2: 64 filters, (3, 3) kernel, 'same' padding, He normal initialization\n",
    "inner = Conv2D(64, (3, 3), padding='same', name='conv2', kernel_initializer='he_normal')(inner)\n",
    "inner = BatchNormalization()(inner)  \n",
    "inner = Activation('relu')(inner)     \n",
    "inner = MaxPooling2D(pool_size=(2, 2), name='max2')(inner)  \n",
    "inner = Dropout(0.3)(inner)\n",
    "\n",
    "# Convolutional Layer 3: 128 filters, (3, 3) kernel, 'same' padding, He normal initialization\n",
    "inner = Conv2D(128, (3, 3), padding='same', name='conv3', kernel_initializer='he_normal')(inner)\n",
    "inner = BatchNormalization()(inner)                         \n",
    "inner = Activation('relu')(inner)                           \n",
    "inner = MaxPooling2D(pool_size=(1, 2), name='max3')(inner)  \n",
    "inner = Dropout(0.3)(inner)                                 \n",
    "\n",
    "# Reshape the output for sequence processing\n",
    "inner = Reshape(target_shape=((64, 1024)), name='reshape')(inner)\n",
    "\n",
    "# Fully Connected Layer 1: 64 units, ReLU activation, He normal initialization\n",
    "inner = Dense(64, activation='relu', kernel_initializer='he_normal', name='dense1')(inner)\n",
    "\n",
    "# Bidirectional LSTM Layers: 256 units, return sequences\n",
    "inner = Bidirectional(LSTM(256, return_sequences=True), name='lstm1')(inner)\n",
    "inner = Bidirectional(LSTM(256, return_sequences=True), name='lstm2')(inner)\n",
    "\n",
    "# Output Layer: Number of characters, He normal initialization\n",
    "inner = Dense(num_of_characters, kernel_initializer='he_normal', name='dense2')(inner)\n",
    "y_pred = Activation('softmax', name='softmax')(inner)  # Softmax activation"
   ],
   "metadata": {
    "collapsed": false,
    "ExecuteTime": {
     "end_time": "2024-04-29T08:41:27.533667900Z",
     "start_time": "2024-04-29T08:41:24.937546600Z"
    }
   },
   "id": "f878a145a6249dc7",
   "execution_count": 23
  },
  {
   "cell_type": "code",
   "outputs": [],
   "source": [
    "# Create the model with input and output layers\n",
    "model = Model(inputs=input_data, outputs=y_pred)\n",
    "\n",
    "model.load_weights('trained_model_12_3.h5')"
   ],
   "metadata": {
    "collapsed": false,
    "ExecuteTime": {
     "end_time": "2024-04-29T08:41:28.635705400Z",
     "start_time": "2024-04-29T08:41:28.435047600Z"
    }
   },
   "id": "b90f381ac8fbc3c0",
   "execution_count": 24
  },
  {
   "cell_type": "code",
   "outputs": [
    {
     "name": "stdout",
     "output_type": "stream",
     "text": [
      "Model: \"model\"\n",
      "_________________________________________________________________\n",
      " Layer (type)                Output Shape              Param #   \n",
      "=================================================================\n",
      " input (InputLayer)          [(None, 256, 64, 1)]      0         \n",
      "                                                                 \n",
      " conv1 (Conv2D)              (None, 256, 64, 32)       320       \n",
      "                                                                 \n",
      " batch_normalization_3 (Batc  (None, 256, 64, 32)      128       \n",
      " hNormalization)                                                 \n",
      "                                                                 \n",
      " activation_3 (Activation)   (None, 256, 64, 32)       0         \n",
      "                                                                 \n",
      " max1 (MaxPooling2D)         (None, 128, 32, 32)       0         \n",
      "                                                                 \n",
      " conv2 (Conv2D)              (None, 128, 32, 64)       18496     \n",
      "                                                                 \n",
      " batch_normalization_4 (Batc  (None, 128, 32, 64)      256       \n",
      " hNormalization)                                                 \n",
      "                                                                 \n",
      " activation_4 (Activation)   (None, 128, 32, 64)       0         \n",
      "                                                                 \n",
      " max2 (MaxPooling2D)         (None, 64, 16, 64)        0         \n",
      "                                                                 \n",
      " dropout_2 (Dropout)         (None, 64, 16, 64)        0         \n",
      "                                                                 \n",
      " conv3 (Conv2D)              (None, 64, 16, 128)       73856     \n",
      "                                                                 \n",
      " batch_normalization_5 (Batc  (None, 64, 16, 128)      512       \n",
      " hNormalization)                                                 \n",
      "                                                                 \n",
      " activation_5 (Activation)   (None, 64, 16, 128)       0         \n",
      "                                                                 \n",
      " max3 (MaxPooling2D)         (None, 64, 8, 128)        0         \n",
      "                                                                 \n",
      " dropout_3 (Dropout)         (None, 64, 8, 128)        0         \n",
      "                                                                 \n",
      " reshape (Reshape)           (None, 64, 1024)          0         \n",
      "                                                                 \n",
      " dense1 (Dense)              (None, 64, 64)            65600     \n",
      "                                                                 \n",
      " lstm1 (Bidirectional)       (None, 64, 512)           657408    \n",
      "                                                                 \n",
      " lstm2 (Bidirectional)       (None, 64, 512)           1574912   \n",
      "                                                                 \n",
      " dense2 (Dense)              (None, 64, 30)            15390     \n",
      "                                                                 \n",
      " softmax (Activation)        (None, 64, 30)            0         \n",
      "                                                                 \n",
      "=================================================================\n",
      "Total params: 2,406,878\n",
      "Trainable params: 2,406,430\n",
      "Non-trainable params: 448\n",
      "_________________________________________________________________\n"
     ]
    }
   ],
   "source": [
    "# Display a summary of the model architecture\n",
    "model.summary()"
   ],
   "metadata": {
    "collapsed": false,
    "ExecuteTime": {
     "end_time": "2024-04-29T08:41:31.479824100Z",
     "start_time": "2024-04-29T08:41:30.567655400Z"
    }
   },
   "id": "2481950c35aae076",
   "execution_count": 25
  },
  {
   "cell_type": "markdown",
   "source": [
    "Compute the CTC loss between predicted and true labels."
   ],
   "metadata": {
    "collapsed": false
   },
   "id": "94ac37d58abffea7"
  },
  {
   "cell_type": "code",
   "outputs": [],
   "source": [
    "# The ctc loss function\n",
    "def ctc_lambda_func(args):\n",
    "    y_pred, labels, input_length, label_length = args\n",
    "    # The 2 is critical here since the first couple outputs of the RNN tend to be garbage\n",
    "    y_pred = y_pred[:, 2:, :]\n",
    "    return tf.keras.backend.ctc_batch_cost(labels, y_pred, input_length, label_length)"
   ],
   "metadata": {
    "collapsed": false,
    "ExecuteTime": {
     "end_time": "2024-04-29T08:41:35.050533900Z",
     "start_time": "2024-04-29T08:41:33.835891500Z"
    }
   },
   "id": "d1e86bfcbc6592c9",
   "execution_count": 26
  },
  {
   "cell_type": "code",
   "outputs": [],
   "source": [
    "# Define input placeholders for true labels, input sequence length, and label sequence length\n",
    "labels = Input(name='gtruth_labels', shape=[max_str_len], dtype='float32')\n",
    "input_length = Input(name='input_length', shape=[1], dtype='int64')\n",
    "label_length = Input(name='label_length', shape=[1], dtype='int64')\n",
    "\n",
    "# Calculate CTC loss using the ctc_lambda_func function\n",
    "ctc_loss = Lambda(ctc_lambda_func, output_shape=(1,), name='ctc')([y_pred, labels, input_length, label_length])\n",
    "\n",
    "# Create the final model that takes input data, true labels, input length, and label length\n",
    "model_final = Model(inputs=[input_data, labels, input_length, label_length], outputs=ctc_loss)"
   ],
   "metadata": {
    "collapsed": false,
    "ExecuteTime": {
     "end_time": "2024-04-29T08:41:35.821417900Z",
     "start_time": "2024-04-29T08:41:35.529584500Z"
    }
   },
   "id": "f936203356a1799f",
   "execution_count": 27
  },
  {
   "cell_type": "code",
   "outputs": [],
   "source": [
    "# Compile the final model with a dummy loss lambda function (loss calculation occurs elsewhere)\n",
    "# The optimizer used is Adam with a learning rate of 0.0001\n",
    "model_final.compile(loss={'ctc': lambda y_true, y_pred: y_pred}, optimizer=Adam(learning_rate=0.0001))\n",
    "history = []"
   ],
   "metadata": {
    "collapsed": false,
    "ExecuteTime": {
     "end_time": "2024-04-29T08:41:37.046046800Z",
     "start_time": "2024-04-29T08:41:36.991706900Z"
    }
   },
   "id": "1e283d3f97eb6cd1",
   "execution_count": 28
  },
  {
   "cell_type": "markdown",
   "source": [
    "# Train the Model"
   ],
   "metadata": {
    "collapsed": false
   },
   "id": "a1f9582ac9094c52"
  },
  {
   "cell_type": "code",
   "outputs": [
    {
     "name": "stdout",
     "output_type": "stream",
     "text": [
      "dataset  30\n",
      "Epoch 1/20\n",
      "79/79 [==============================] - 18s 155ms/step - loss: 1.2759 - val_loss: 1.1298\n",
      "Epoch 2/20\n",
      "79/79 [==============================] - 11s 138ms/step - loss: 1.0862 - val_loss: 1.1496\n",
      "Epoch 3/20\n",
      "38/79 [=============>................] - ETA: 5s - loss: 0.8931"
     ]
    },
    {
     "ename": "KeyboardInterrupt",
     "evalue": "",
     "output_type": "error",
     "traceback": [
      "\u001B[1;31m---------------------------------------------------------------------------\u001B[0m",
      "\u001B[1;31mKeyboardInterrupt\u001B[0m                         Traceback (most recent call last)",
      "Cell \u001B[1;32mIn[143], line 35\u001B[0m\n\u001B[0;32m     33\u001B[0m \u001B[38;5;66;03m# Train the model with the current data\u001B[39;00m\n\u001B[0;32m     34\u001B[0m \u001B[38;5;28mprint\u001B[39m(\u001B[38;5;124m\"\u001B[39m\u001B[38;5;124mdataset \u001B[39m\u001B[38;5;124m\"\u001B[39m, i)\n\u001B[1;32m---> 35\u001B[0m history_buff \u001B[38;5;241m=\u001B[39m \u001B[43mmodel_final\u001B[49m\u001B[38;5;241;43m.\u001B[39;49m\u001B[43mfit\u001B[49m\u001B[43m(\u001B[49m\n\u001B[0;32m     36\u001B[0m \u001B[43m    \u001B[49m\u001B[43mx\u001B[49m\u001B[38;5;241;43m=\u001B[39;49m\u001B[43m[\u001B[49m\u001B[43mtrain_x\u001B[49m\u001B[43m,\u001B[49m\u001B[43m \u001B[49m\u001B[43mtrain_y\u001B[49m\u001B[43m,\u001B[49m\u001B[43m \u001B[49m\u001B[43mtrain_input_len\u001B[49m\u001B[43m,\u001B[49m\u001B[43m \u001B[49m\u001B[43mtrain_label_len\u001B[49m\u001B[43m]\u001B[49m\u001B[43m,\u001B[49m\n\u001B[0;32m     37\u001B[0m \u001B[43m    \u001B[49m\u001B[43my\u001B[49m\u001B[38;5;241;43m=\u001B[39;49m\u001B[43mtrain_output\u001B[49m\u001B[43m,\u001B[49m\n\u001B[0;32m     38\u001B[0m \u001B[43m    \u001B[49m\u001B[43mvalidation_data\u001B[49m\u001B[38;5;241;43m=\u001B[39;49m\u001B[43m(\u001B[49m\u001B[43m[\u001B[49m\u001B[43mvalid_x\u001B[49m\u001B[43m,\u001B[49m\u001B[43m \u001B[49m\u001B[43mvalid_y\u001B[49m\u001B[43m,\u001B[49m\u001B[43m \u001B[49m\u001B[43mvalid_input_len\u001B[49m\u001B[43m,\u001B[49m\u001B[43m \u001B[49m\u001B[43mvalid_label_len\u001B[49m\u001B[43m]\u001B[49m\u001B[43m,\u001B[49m\u001B[43m \u001B[49m\u001B[43mvalid_output\u001B[49m\u001B[43m)\u001B[49m\u001B[43m,\u001B[49m\n\u001B[0;32m     39\u001B[0m \u001B[43m    \u001B[49m\u001B[43mepochs\u001B[49m\u001B[38;5;241;43m=\u001B[39;49m\u001B[38;5;241;43m20\u001B[39;49m\u001B[43m,\u001B[49m\n\u001B[0;32m     40\u001B[0m \u001B[43m    \u001B[49m\u001B[43mbatch_size\u001B[49m\u001B[38;5;241;43m=\u001B[39;49m\u001B[38;5;241;43m64\u001B[39;49m\u001B[43m,\u001B[49m\n\u001B[0;32m     41\u001B[0m \u001B[43m    \u001B[49m\u001B[43mcallbacks\u001B[49m\u001B[38;5;241;43m=\u001B[39;49m\u001B[43m[\u001B[49m\u001B[43mearly_stopping_callback\u001B[49m\u001B[43m,\u001B[49m\u001B[43m \u001B[49m\u001B[43mcheckpoint_callback\u001B[49m\u001B[43m]\u001B[49m\n\u001B[0;32m     42\u001B[0m \u001B[43m\u001B[49m\u001B[43m)\u001B[49m\n\u001B[0;32m     44\u001B[0m \u001B[38;5;66;03m# Load the best model from the checkpoint\u001B[39;00m\n\u001B[0;32m     45\u001B[0m \u001B[38;5;66;03m#best_model_path = tf.train.latest_checkpoint(checkpoint_dir)\u001B[39;00m\n\u001B[0;32m     46\u001B[0m \u001B[38;5;66;03m#model_final.load_weights(best_model_path)\u001B[39;00m\n\u001B[0;32m     48\u001B[0m history\u001B[38;5;241m.\u001B[39mextend(history_buff\u001B[38;5;241m.\u001B[39mhistory[\u001B[38;5;124m'\u001B[39m\u001B[38;5;124mloss\u001B[39m\u001B[38;5;124m'\u001B[39m])\n",
      "File \u001B[1;32m~\\anaconda3\\envs\\tf\\lib\\site-packages\\keras\\utils\\traceback_utils.py:65\u001B[0m, in \u001B[0;36mfilter_traceback.<locals>.error_handler\u001B[1;34m(*args, **kwargs)\u001B[0m\n\u001B[0;32m     63\u001B[0m filtered_tb \u001B[38;5;241m=\u001B[39m \u001B[38;5;28;01mNone\u001B[39;00m\n\u001B[0;32m     64\u001B[0m \u001B[38;5;28;01mtry\u001B[39;00m:\n\u001B[1;32m---> 65\u001B[0m     \u001B[38;5;28;01mreturn\u001B[39;00m fn(\u001B[38;5;241m*\u001B[39margs, \u001B[38;5;241m*\u001B[39m\u001B[38;5;241m*\u001B[39mkwargs)\n\u001B[0;32m     66\u001B[0m \u001B[38;5;28;01mexcept\u001B[39;00m \u001B[38;5;167;01mException\u001B[39;00m \u001B[38;5;28;01mas\u001B[39;00m e:\n\u001B[0;32m     67\u001B[0m     filtered_tb \u001B[38;5;241m=\u001B[39m _process_traceback_frames(e\u001B[38;5;241m.\u001B[39m__traceback__)\n",
      "File \u001B[1;32m~\\anaconda3\\envs\\tf\\lib\\site-packages\\keras\\engine\\training.py:1564\u001B[0m, in \u001B[0;36mModel.fit\u001B[1;34m(self, x, y, batch_size, epochs, verbose, callbacks, validation_split, validation_data, shuffle, class_weight, sample_weight, initial_epoch, steps_per_epoch, validation_steps, validation_batch_size, validation_freq, max_queue_size, workers, use_multiprocessing)\u001B[0m\n\u001B[0;32m   1556\u001B[0m \u001B[38;5;28;01mwith\u001B[39;00m tf\u001B[38;5;241m.\u001B[39mprofiler\u001B[38;5;241m.\u001B[39mexperimental\u001B[38;5;241m.\u001B[39mTrace(\n\u001B[0;32m   1557\u001B[0m     \u001B[38;5;124m\"\u001B[39m\u001B[38;5;124mtrain\u001B[39m\u001B[38;5;124m\"\u001B[39m,\n\u001B[0;32m   1558\u001B[0m     epoch_num\u001B[38;5;241m=\u001B[39mepoch,\n\u001B[1;32m   (...)\u001B[0m\n\u001B[0;32m   1561\u001B[0m     _r\u001B[38;5;241m=\u001B[39m\u001B[38;5;241m1\u001B[39m,\n\u001B[0;32m   1562\u001B[0m ):\n\u001B[0;32m   1563\u001B[0m     callbacks\u001B[38;5;241m.\u001B[39mon_train_batch_begin(step)\n\u001B[1;32m-> 1564\u001B[0m     tmp_logs \u001B[38;5;241m=\u001B[39m \u001B[38;5;28;43mself\u001B[39;49m\u001B[38;5;241;43m.\u001B[39;49m\u001B[43mtrain_function\u001B[49m\u001B[43m(\u001B[49m\u001B[43miterator\u001B[49m\u001B[43m)\u001B[49m\n\u001B[0;32m   1565\u001B[0m     \u001B[38;5;28;01mif\u001B[39;00m data_handler\u001B[38;5;241m.\u001B[39mshould_sync:\n\u001B[0;32m   1566\u001B[0m         context\u001B[38;5;241m.\u001B[39masync_wait()\n",
      "File \u001B[1;32m~\\anaconda3\\envs\\tf\\lib\\site-packages\\tensorflow\\python\\util\\traceback_utils.py:150\u001B[0m, in \u001B[0;36mfilter_traceback.<locals>.error_handler\u001B[1;34m(*args, **kwargs)\u001B[0m\n\u001B[0;32m    148\u001B[0m filtered_tb \u001B[38;5;241m=\u001B[39m \u001B[38;5;28;01mNone\u001B[39;00m\n\u001B[0;32m    149\u001B[0m \u001B[38;5;28;01mtry\u001B[39;00m:\n\u001B[1;32m--> 150\u001B[0m   \u001B[38;5;28;01mreturn\u001B[39;00m fn(\u001B[38;5;241m*\u001B[39margs, \u001B[38;5;241m*\u001B[39m\u001B[38;5;241m*\u001B[39mkwargs)\n\u001B[0;32m    151\u001B[0m \u001B[38;5;28;01mexcept\u001B[39;00m \u001B[38;5;167;01mException\u001B[39;00m \u001B[38;5;28;01mas\u001B[39;00m e:\n\u001B[0;32m    152\u001B[0m   filtered_tb \u001B[38;5;241m=\u001B[39m _process_traceback_frames(e\u001B[38;5;241m.\u001B[39m__traceback__)\n",
      "File \u001B[1;32m~\\anaconda3\\envs\\tf\\lib\\site-packages\\tensorflow\\python\\eager\\def_function.py:915\u001B[0m, in \u001B[0;36mFunction.__call__\u001B[1;34m(self, *args, **kwds)\u001B[0m\n\u001B[0;32m    912\u001B[0m compiler \u001B[38;5;241m=\u001B[39m \u001B[38;5;124m\"\u001B[39m\u001B[38;5;124mxla\u001B[39m\u001B[38;5;124m\"\u001B[39m \u001B[38;5;28;01mif\u001B[39;00m \u001B[38;5;28mself\u001B[39m\u001B[38;5;241m.\u001B[39m_jit_compile \u001B[38;5;28;01melse\u001B[39;00m \u001B[38;5;124m\"\u001B[39m\u001B[38;5;124mnonXla\u001B[39m\u001B[38;5;124m\"\u001B[39m\n\u001B[0;32m    914\u001B[0m \u001B[38;5;28;01mwith\u001B[39;00m OptionalXlaContext(\u001B[38;5;28mself\u001B[39m\u001B[38;5;241m.\u001B[39m_jit_compile):\n\u001B[1;32m--> 915\u001B[0m   result \u001B[38;5;241m=\u001B[39m \u001B[38;5;28mself\u001B[39m\u001B[38;5;241m.\u001B[39m_call(\u001B[38;5;241m*\u001B[39margs, \u001B[38;5;241m*\u001B[39m\u001B[38;5;241m*\u001B[39mkwds)\n\u001B[0;32m    917\u001B[0m new_tracing_count \u001B[38;5;241m=\u001B[39m \u001B[38;5;28mself\u001B[39m\u001B[38;5;241m.\u001B[39mexperimental_get_tracing_count()\n\u001B[0;32m    918\u001B[0m without_tracing \u001B[38;5;241m=\u001B[39m (tracing_count \u001B[38;5;241m==\u001B[39m new_tracing_count)\n",
      "File \u001B[1;32m~\\anaconda3\\envs\\tf\\lib\\site-packages\\tensorflow\\python\\eager\\def_function.py:947\u001B[0m, in \u001B[0;36mFunction._call\u001B[1;34m(self, *args, **kwds)\u001B[0m\n\u001B[0;32m    944\u001B[0m   \u001B[38;5;28mself\u001B[39m\u001B[38;5;241m.\u001B[39m_lock\u001B[38;5;241m.\u001B[39mrelease()\n\u001B[0;32m    945\u001B[0m   \u001B[38;5;66;03m# In this case we have created variables on the first call, so we run the\u001B[39;00m\n\u001B[0;32m    946\u001B[0m   \u001B[38;5;66;03m# defunned version which is guaranteed to never create variables.\u001B[39;00m\n\u001B[1;32m--> 947\u001B[0m   \u001B[38;5;28;01mreturn\u001B[39;00m \u001B[38;5;28mself\u001B[39m\u001B[38;5;241m.\u001B[39m_stateless_fn(\u001B[38;5;241m*\u001B[39margs, \u001B[38;5;241m*\u001B[39m\u001B[38;5;241m*\u001B[39mkwds)  \u001B[38;5;66;03m# pylint: disable=not-callable\u001B[39;00m\n\u001B[0;32m    948\u001B[0m \u001B[38;5;28;01melif\u001B[39;00m \u001B[38;5;28mself\u001B[39m\u001B[38;5;241m.\u001B[39m_stateful_fn \u001B[38;5;129;01mis\u001B[39;00m \u001B[38;5;129;01mnot\u001B[39;00m \u001B[38;5;28;01mNone\u001B[39;00m:\n\u001B[0;32m    949\u001B[0m   \u001B[38;5;66;03m# Release the lock early so that multiple threads can perform the call\u001B[39;00m\n\u001B[0;32m    950\u001B[0m   \u001B[38;5;66;03m# in parallel.\u001B[39;00m\n\u001B[0;32m    951\u001B[0m   \u001B[38;5;28mself\u001B[39m\u001B[38;5;241m.\u001B[39m_lock\u001B[38;5;241m.\u001B[39mrelease()\n",
      "File \u001B[1;32m~\\anaconda3\\envs\\tf\\lib\\site-packages\\tensorflow\\python\\eager\\function.py:2496\u001B[0m, in \u001B[0;36mFunction.__call__\u001B[1;34m(self, *args, **kwargs)\u001B[0m\n\u001B[0;32m   2493\u001B[0m \u001B[38;5;28;01mwith\u001B[39;00m \u001B[38;5;28mself\u001B[39m\u001B[38;5;241m.\u001B[39m_lock:\n\u001B[0;32m   2494\u001B[0m   (graph_function,\n\u001B[0;32m   2495\u001B[0m    filtered_flat_args) \u001B[38;5;241m=\u001B[39m \u001B[38;5;28mself\u001B[39m\u001B[38;5;241m.\u001B[39m_maybe_define_function(args, kwargs)\n\u001B[1;32m-> 2496\u001B[0m \u001B[38;5;28;01mreturn\u001B[39;00m \u001B[43mgraph_function\u001B[49m\u001B[38;5;241;43m.\u001B[39;49m\u001B[43m_call_flat\u001B[49m\u001B[43m(\u001B[49m\n\u001B[0;32m   2497\u001B[0m \u001B[43m    \u001B[49m\u001B[43mfiltered_flat_args\u001B[49m\u001B[43m,\u001B[49m\u001B[43m \u001B[49m\u001B[43mcaptured_inputs\u001B[49m\u001B[38;5;241;43m=\u001B[39;49m\u001B[43mgraph_function\u001B[49m\u001B[38;5;241;43m.\u001B[39;49m\u001B[43mcaptured_inputs\u001B[49m\u001B[43m)\u001B[49m\n",
      "File \u001B[1;32m~\\anaconda3\\envs\\tf\\lib\\site-packages\\tensorflow\\python\\eager\\function.py:1862\u001B[0m, in \u001B[0;36mConcreteFunction._call_flat\u001B[1;34m(self, args, captured_inputs, cancellation_manager)\u001B[0m\n\u001B[0;32m   1858\u001B[0m possible_gradient_type \u001B[38;5;241m=\u001B[39m gradients_util\u001B[38;5;241m.\u001B[39mPossibleTapeGradientTypes(args)\n\u001B[0;32m   1859\u001B[0m \u001B[38;5;28;01mif\u001B[39;00m (possible_gradient_type \u001B[38;5;241m==\u001B[39m gradients_util\u001B[38;5;241m.\u001B[39mPOSSIBLE_GRADIENT_TYPES_NONE\n\u001B[0;32m   1860\u001B[0m     \u001B[38;5;129;01mand\u001B[39;00m executing_eagerly):\n\u001B[0;32m   1861\u001B[0m   \u001B[38;5;66;03m# No tape is watching; skip to running the function.\u001B[39;00m\n\u001B[1;32m-> 1862\u001B[0m   \u001B[38;5;28;01mreturn\u001B[39;00m \u001B[38;5;28mself\u001B[39m\u001B[38;5;241m.\u001B[39m_build_call_outputs(\u001B[38;5;28;43mself\u001B[39;49m\u001B[38;5;241;43m.\u001B[39;49m\u001B[43m_inference_function\u001B[49m\u001B[38;5;241;43m.\u001B[39;49m\u001B[43mcall\u001B[49m\u001B[43m(\u001B[49m\n\u001B[0;32m   1863\u001B[0m \u001B[43m      \u001B[49m\u001B[43mctx\u001B[49m\u001B[43m,\u001B[49m\u001B[43m \u001B[49m\u001B[43margs\u001B[49m\u001B[43m,\u001B[49m\u001B[43m \u001B[49m\u001B[43mcancellation_manager\u001B[49m\u001B[38;5;241;43m=\u001B[39;49m\u001B[43mcancellation_manager\u001B[49m\u001B[43m)\u001B[49m)\n\u001B[0;32m   1864\u001B[0m forward_backward \u001B[38;5;241m=\u001B[39m \u001B[38;5;28mself\u001B[39m\u001B[38;5;241m.\u001B[39m_select_forward_and_backward_functions(\n\u001B[0;32m   1865\u001B[0m     args,\n\u001B[0;32m   1866\u001B[0m     possible_gradient_type,\n\u001B[0;32m   1867\u001B[0m     executing_eagerly)\n\u001B[0;32m   1868\u001B[0m forward_function, args_with_tangents \u001B[38;5;241m=\u001B[39m forward_backward\u001B[38;5;241m.\u001B[39mforward()\n",
      "File \u001B[1;32m~\\anaconda3\\envs\\tf\\lib\\site-packages\\tensorflow\\python\\eager\\function.py:499\u001B[0m, in \u001B[0;36m_EagerDefinedFunction.call\u001B[1;34m(self, ctx, args, cancellation_manager)\u001B[0m\n\u001B[0;32m    497\u001B[0m \u001B[38;5;28;01mwith\u001B[39;00m _InterpolateFunctionError(\u001B[38;5;28mself\u001B[39m):\n\u001B[0;32m    498\u001B[0m   \u001B[38;5;28;01mif\u001B[39;00m cancellation_manager \u001B[38;5;129;01mis\u001B[39;00m \u001B[38;5;28;01mNone\u001B[39;00m:\n\u001B[1;32m--> 499\u001B[0m     outputs \u001B[38;5;241m=\u001B[39m \u001B[43mexecute\u001B[49m\u001B[38;5;241;43m.\u001B[39;49m\u001B[43mexecute\u001B[49m\u001B[43m(\u001B[49m\n\u001B[0;32m    500\u001B[0m \u001B[43m        \u001B[49m\u001B[38;5;28;43mstr\u001B[39;49m\u001B[43m(\u001B[49m\u001B[38;5;28;43mself\u001B[39;49m\u001B[38;5;241;43m.\u001B[39;49m\u001B[43msignature\u001B[49m\u001B[38;5;241;43m.\u001B[39;49m\u001B[43mname\u001B[49m\u001B[43m)\u001B[49m\u001B[43m,\u001B[49m\n\u001B[0;32m    501\u001B[0m \u001B[43m        \u001B[49m\u001B[43mnum_outputs\u001B[49m\u001B[38;5;241;43m=\u001B[39;49m\u001B[38;5;28;43mself\u001B[39;49m\u001B[38;5;241;43m.\u001B[39;49m\u001B[43m_num_outputs\u001B[49m\u001B[43m,\u001B[49m\n\u001B[0;32m    502\u001B[0m \u001B[43m        \u001B[49m\u001B[43minputs\u001B[49m\u001B[38;5;241;43m=\u001B[39;49m\u001B[43margs\u001B[49m\u001B[43m,\u001B[49m\n\u001B[0;32m    503\u001B[0m \u001B[43m        \u001B[49m\u001B[43mattrs\u001B[49m\u001B[38;5;241;43m=\u001B[39;49m\u001B[43mattrs\u001B[49m\u001B[43m,\u001B[49m\n\u001B[0;32m    504\u001B[0m \u001B[43m        \u001B[49m\u001B[43mctx\u001B[49m\u001B[38;5;241;43m=\u001B[39;49m\u001B[43mctx\u001B[49m\u001B[43m)\u001B[49m\n\u001B[0;32m    505\u001B[0m   \u001B[38;5;28;01melse\u001B[39;00m:\n\u001B[0;32m    506\u001B[0m     outputs \u001B[38;5;241m=\u001B[39m execute\u001B[38;5;241m.\u001B[39mexecute_with_cancellation(\n\u001B[0;32m    507\u001B[0m         \u001B[38;5;28mstr\u001B[39m(\u001B[38;5;28mself\u001B[39m\u001B[38;5;241m.\u001B[39msignature\u001B[38;5;241m.\u001B[39mname),\n\u001B[0;32m    508\u001B[0m         num_outputs\u001B[38;5;241m=\u001B[39m\u001B[38;5;28mself\u001B[39m\u001B[38;5;241m.\u001B[39m_num_outputs,\n\u001B[1;32m   (...)\u001B[0m\n\u001B[0;32m    511\u001B[0m         ctx\u001B[38;5;241m=\u001B[39mctx,\n\u001B[0;32m    512\u001B[0m         cancellation_manager\u001B[38;5;241m=\u001B[39mcancellation_manager)\n",
      "File \u001B[1;32m~\\anaconda3\\envs\\tf\\lib\\site-packages\\tensorflow\\python\\eager\\execute.py:54\u001B[0m, in \u001B[0;36mquick_execute\u001B[1;34m(op_name, num_outputs, inputs, attrs, ctx, name)\u001B[0m\n\u001B[0;32m     52\u001B[0m \u001B[38;5;28;01mtry\u001B[39;00m:\n\u001B[0;32m     53\u001B[0m   ctx\u001B[38;5;241m.\u001B[39mensure_initialized()\n\u001B[1;32m---> 54\u001B[0m   tensors \u001B[38;5;241m=\u001B[39m \u001B[43mpywrap_tfe\u001B[49m\u001B[38;5;241;43m.\u001B[39;49m\u001B[43mTFE_Py_Execute\u001B[49m\u001B[43m(\u001B[49m\u001B[43mctx\u001B[49m\u001B[38;5;241;43m.\u001B[39;49m\u001B[43m_handle\u001B[49m\u001B[43m,\u001B[49m\u001B[43m \u001B[49m\u001B[43mdevice_name\u001B[49m\u001B[43m,\u001B[49m\u001B[43m \u001B[49m\u001B[43mop_name\u001B[49m\u001B[43m,\u001B[49m\n\u001B[0;32m     55\u001B[0m \u001B[43m                                      \u001B[49m\u001B[43minputs\u001B[49m\u001B[43m,\u001B[49m\u001B[43m \u001B[49m\u001B[43mattrs\u001B[49m\u001B[43m,\u001B[49m\u001B[43m \u001B[49m\u001B[43mnum_outputs\u001B[49m\u001B[43m)\u001B[49m\n\u001B[0;32m     56\u001B[0m \u001B[38;5;28;01mexcept\u001B[39;00m core\u001B[38;5;241m.\u001B[39m_NotOkStatusException \u001B[38;5;28;01mas\u001B[39;00m e:\n\u001B[0;32m     57\u001B[0m   \u001B[38;5;28;01mif\u001B[39;00m name \u001B[38;5;129;01mis\u001B[39;00m \u001B[38;5;129;01mnot\u001B[39;00m \u001B[38;5;28;01mNone\u001B[39;00m:\n",
      "\u001B[1;31mKeyboardInterrupt\u001B[0m: "
     ]
    }
   ],
   "source": [
    "# Define the folder to save the model\n",
    "checkpoint_dir = 'checkpoints/'\n",
    "# Create the folder if it doesn't exist\n",
    "if not os.path.exists(checkpoint_dir):\n",
    "    os.makedirs(checkpoint_dir)\n",
    "\n",
    "# Define EarlyStopping and ModelCheckpoint callbacks\n",
    "early_stopping_callback = EarlyStopping(monitor='val_loss', patience=20)  # Stop training if val_loss does not improve\n",
    "checkpoint_callback = ModelCheckpoint(\n",
    "    filepath=os.path.join(checkpoint_dir, 'model_{epoch:02d}_{val_loss:.3f}.h5'),  # Path to the model file to be saved\n",
    "    monitor='val_loss',  # Monitor val_loss\n",
    "    save_best_only=True,  # Save only the best model\n",
    "    mode='min'  # Save the model when val_loss is at its minimum\n",
    ")\n",
    "\n",
    "# Iterate through each folder\n",
    "for i in range(30, 31):\n",
    "    folder_path = os.path.join('dataset', str(i))\n",
    "    \n",
    "    # Load data from files in the folder\n",
    "    train_x = np.load(os.path.join(folder_path, 'train_x.npy'))\n",
    "    train_y = np.load(os.path.join(folder_path, 'train_y.npy'))\n",
    "    train_input_len = np.load(os.path.join(folder_path, 'train_input_len.npy'))\n",
    "    train_label_len = np.load(os.path.join(folder_path, 'train_label_len.npy'))\n",
    "    train_output = np.load(os.path.join(folder_path, 'train_output.npy'))\n",
    "\n",
    "    valid_x = np.load(os.path.join(folder_path, 'valid_x.npy'))\n",
    "    valid_y = np.load(os.path.join(folder_path, 'valid_y.npy'))\n",
    "    valid_input_len = np.load(os.path.join(folder_path, 'valid_input_len.npy'))\n",
    "    valid_label_len = np.load(os.path.join(folder_path, 'valid_label_len.npy'))\n",
    "    valid_output = np.load(os.path.join(folder_path, 'valid_output.npy'))\n",
    "\n",
    "    # Train the model with the current data\n",
    "    print(\"dataset \", i)\n",
    "    history_buff = model_final.fit(\n",
    "        x=[train_x, train_y, train_input_len, train_label_len],\n",
    "        y=train_output,\n",
    "        validation_data=([valid_x, valid_y, valid_input_len, valid_label_len], valid_output),\n",
    "        epochs=20,\n",
    "        batch_size=64,\n",
    "        callbacks=[early_stopping_callback, checkpoint_callback]\n",
    "    )\n",
    "    \n",
    "    # Load the best model from the checkpoint\n",
    "    #best_model_path = tf.train.latest_checkpoint(checkpoint_dir)\n",
    "    #model_final.load_weights(best_model_path)\n",
    "    \n",
    "    history.extend(history_buff.history['loss'])\n",
    "    history.extend(history_buff.history['val_loss']) \n",
    "    \n",
    "     # Delete variables to free up memory\n",
    "    del train_x, train_y, train_input_len, train_label_len, train_output\n",
    "    del valid_x, valid_y, valid_input_len, valid_label_len, valid_output\n"
   ],
   "metadata": {
    "collapsed": false,
    "ExecuteTime": {
     "end_time": "2024-04-28T22:05:58.173372200Z",
     "start_time": "2024-04-28T22:05:23.157023800Z"
    }
   },
   "id": "fef03497a68fe7e9",
   "execution_count": 143
  },
  {
   "cell_type": "code",
   "outputs": [
    {
     "data": {
      "text/plain": "<Figure size 640x480 with 1 Axes>",
      "image/png": "[encoded data removed]"
     },
     "metadata": {},
     "output_type": "display_data"
    }
   ],
   "source": [
    "#  loss and val_loss history\n",
    "loss = history[::2]\n",
    "val_loss = history[1::2]\n",
    "\n",
    "plt.plot(loss, label='Training Loss')\n",
    "plt.plot(val_loss, label='Validation Loss')\n",
    "plt.title('Training and Validation Loss')\n",
    "plt.xlabel('Epoch')\n",
    "plt.ylabel('Loss')\n",
    "plt.legend()\n",
    "plt.show()\n"
   ],
   "metadata": {
    "collapsed": false,
    "ExecuteTime": {
     "end_time": "2024-04-28T21:08:37.230353600Z",
     "start_time": "2024-04-28T21:08:37.075472800Z"
    }
   },
   "id": "3238d4ac65c863ec",
   "execution_count": 19
  },
  {
   "cell_type": "code",
   "outputs": [
    {
     "name": "stdout",
     "output_type": "stream",
     "text": [
      "WARNING:tensorflow:Compiled the loaded model, but the compiled metrics have yet to be built. `model.compile_metrics` will be empty until you train or evaluate the model.\n"
     ]
    },
    {
     "name": "stderr",
     "output_type": "stream",
     "text": [
      "WARNING:absl:Found untraced functions such as _jit_compiled_convolution_op, _jit_compiled_convolution_op, _jit_compiled_convolution_op, lstm_cell_73_layer_call_fn, lstm_cell_73_layer_call_and_return_conditional_losses while saving (showing 5 of 11). These functions will not be directly callable after loading.\n"
     ]
    },
    {
     "name": "stdout",
     "output_type": "stream",
     "text": [
      "INFO:tensorflow:Assets written to: last_trained_model\\assets\n"
     ]
    },
    {
     "name": "stderr",
     "output_type": "stream",
     "text": [
      "INFO:tensorflow:Assets written to: last_trained_model\\assets\n"
     ]
    }
   ],
   "source": [
    "# Save model \n",
    "model.save('trained_model_12_3.h5')"
   ],
   "metadata": {
    "collapsed": false,
    "ExecuteTime": {
     "end_time": "2024-04-28T22:14:27.400270Z",
     "start_time": "2024-04-28T22:14:07.736998700Z"
    }
   },
   "id": "92960f55a9fa312",
   "execution_count": 167
  },
  {
   "cell_type": "code",
   "outputs": [
    {
     "name": "stdout",
     "output_type": "stream",
     "text": [
      "[]\n"
     ]
    }
   ],
   "source": [
    "# save history\n",
    "with open('history12.pkl', 'wb') as file:\n",
    "    pickle.dump(history, file)"
   ],
   "metadata": {
    "collapsed": false,
    "ExecuteTime": {
     "end_time": "2024-04-28T20:35:52.602898100Z",
     "start_time": "2024-04-28T20:35:52.577883900Z"
    }
   },
   "id": "5def6b3b95001eda",
   "execution_count": 87
  },
  {
   "cell_type": "code",
   "outputs": [
    {
     "name": "stdout",
     "output_type": "stream",
     "text": [
      "WARNING:tensorflow:No training configuration found in save file, so the model was *not* compiled. Compile it manually.\n"
     ]
    }
   ],
   "source": [
    "#Load model\n",
    "model = load_model('trained_model.h12')"
   ],
   "metadata": {
    "collapsed": false,
    "ExecuteTime": {
     "end_time": "2024-04-28T20:33:41.523017800Z",
     "start_time": "2024-04-28T20:33:36.405375800Z"
    }
   },
   "id": "3f54826faceca976",
   "execution_count": 72
  },
  {
   "cell_type": "code",
   "outputs": [
    {
     "name": "stdout",
     "output_type": "stream",
     "text": [
      "157/157 [==============================] - 12s 29ms/step\n"
     ]
    }
   ],
   "source": [
    "preds = model.predict(valid_x)\n",
    "decoded = tf.keras.backend.get_value(tf.keras.backend.ctc_decode(preds, input_length=np.ones(preds.shape[0])*preds.shape[1], \n",
    "                                   greedy=True)[0][0])\n",
    "\n",
    "prediction = []\n",
    "for i in range(valid_size):\n",
    "    prediction.append(num_to_label(decoded[i]))"
   ],
   "metadata": {
    "collapsed": false,
    "ExecuteTime": {
     "end_time": "2024-04-29T08:41:57.350754100Z",
     "start_time": "2024-04-29T08:41:44.721815200Z"
    }
   },
   "id": "d7fb17b9a3d9fb89",
   "execution_count": 29
  },
  {
   "cell_type": "code",
   "outputs": [
    {
     "name": "stdout",
     "output_type": "stream",
     "text": [
      "Correct characters predicted : 89.98%\n",
      "Correct words predicted      : 79.74%\n"
     ]
    }
   ],
   "source": [
    "y_true = valid.loc[0:valid_size, 'IDENTITY']\n",
    "correct_char = 0\n",
    "total_char = 0\n",
    "correct = 0\n",
    "\n",
    "for i in range(valid_size):\n",
    "    pr = prediction[i]\n",
    "    tr = y_true[i]\n",
    "    total_char += len(tr)\n",
    "    \n",
    "    for j in range(min(len(tr), len(pr))):\n",
    "        if tr[j] == pr[j]:\n",
    "            correct_char += 1\n",
    "            \n",
    "    if pr == tr :\n",
    "        correct += 1 \n",
    "\n",
    "print('Correct characters predicted : %.2f%%' %(correct_char*100/total_char))\n",
    "print('Correct words predicted      : %.2f%%' %(correct*100/valid_size))"
   ],
   "metadata": {
    "collapsed": false,
    "ExecuteTime": {
     "end_time": "2024-04-29T08:42:16.857628800Z",
     "start_time": "2024-04-29T08:42:16.820148800Z"
    }
   },
   "id": "83e07dacd55e2856",
   "execution_count": 31
  },
  {
   "cell_type": "code",
   "outputs": [],
   "source": [
    "# 50.88 38.83  model 10\n",
    "# 86.98 75.59  model 11\n",
    "# 89.08 77.78  model 11.1 in ram memory\n",
    "# 89.98 79.74  model 12_3"
   ],
   "metadata": {
    "collapsed": false,
    "ExecuteTime": {
     "end_time": "2024-04-29T08:43:16.140783900Z",
     "start_time": "2024-04-29T08:43:16.075955900Z"
    }
   },
   "id": "8cf90d34902ae7cd",
   "execution_count": 32
  },
  {
   "cell_type": "markdown",
   "source": [
    "# Prediction on Test Set"
   ],
   "metadata": {
    "collapsed": false
   },
   "id": "27fbeeaedfd174e1"
  },
  {
   "cell_type": "code",
   "outputs": [
    {
     "name": "stdout",
     "output_type": "stream",
     "text": [
      "1/1 [==============================] - 0s 491ms/step\n",
      "1/1 [==============================] - 0s 37ms/step\n",
      "1/1 [==============================] - 0s 38ms/step\n",
      "1/1 [==============================] - 0s 33ms/step\n",
      "1/1 [==============================] - 0s 37ms/step\n",
      "1/1 [==============================] - 0s 34ms/step\n"
     ]
    },
    {
     "data": {
      "text/plain": "<Figure size 1500x1000 with 6 Axes>",
      "image/png": "[encoded data removed]"
     },
     "metadata": {},
     "output_type": "display_data"
    }
   ],
   "source": [
    "test = pd.read_csv('written_name_test_v2.csv')\n",
    "\n",
    "plt.figure(figsize=(15, 10))\n",
    "for i in range(6):\n",
    "    ax = plt.subplot(2, 3, i+1)\n",
    "    img_dir = './test_v2/test/'+ test.loc[i, 'FILENAME']\n",
    "    image = cv2.imread(img_dir, cv2.IMREAD_GRAYSCALE)\n",
    "    plt.imshow(image, cmap='gray')\n",
    "    \n",
    "    image = preprocess(image)\n",
    "    image = image/255.\n",
    "    pred = model.predict(image.reshape(1, 256, 64, 1))\n",
    "    decoded = tf.keras.backend.get_value(tf.keras.backend.ctc_decode(pred, input_length=np.ones(pred.shape[0])*pred.shape[1], \n",
    "                                       greedy=True)[0][0])\n",
    "    plt.title(num_to_label(decoded[0]), fontsize=12)\n",
    "    plt.axis('off')\n",
    "    \n",
    "plt.subplots_adjust(wspace=0.2, hspace=-0.8)"
   ],
   "metadata": {
    "collapsed": false,
    "ExecuteTime": {
     "end_time": "2024-04-29T08:43:33.473323400Z",
     "start_time": "2024-04-29T08:43:32.258174200Z"
    }
   },
   "id": "5031b3a1770a15b",
   "execution_count": 33
  },
  {
   "cell_type": "code",
   "outputs": [
    {
     "name": "stdout",
     "output_type": "stream",
     "text": [
      "1/1 [==============================] - 0s 46ms/step\n",
      "0\n",
      "1/1 [==============================] - 0s 42ms/step\n",
      "1\n",
      "1/1 [==============================] - 0s 44ms/step\n",
      "2\n",
      "1/1 [==============================] - 0s 43ms/step\n",
      "3\n",
      "1/1 [==============================] - 0s 52ms/step\n",
      "4\n",
      "1/1 [==============================] - 0s 46ms/step\n",
      "5\n",
      "1/1 [==============================] - 0s 44ms/step\n",
      "6\n",
      "1/1 [==============================] - 0s 49ms/step\n",
      "7\n",
      "1/1 [==============================] - 0s 44ms/step\n",
      "8\n",
      "1/1 [==============================] - 0s 48ms/step\n",
      "9\n",
      "1/1 [==============================] - 0s 44ms/step\n",
      "10\n",
      "1/1 [==============================] - 0s 43ms/step\n",
      "11\n",
      "1/1 [==============================] - 0s 41ms/step\n",
      "12\n",
      "1/1 [==============================] - 0s 45ms/step\n",
      "13\n",
      "1/1 [==============================] - 0s 45ms/step\n",
      "14\n",
      "1/1 [==============================] - 0s 46ms/step\n",
      "15\n",
      "1/1 [==============================] - 0s 44ms/step\n",
      "16\n",
      "1/1 [==============================] - 0s 45ms/step\n",
      "17\n",
      "1/1 [==============================] - 0s 43ms/step\n",
      "18\n",
      "1/1 [==============================] - 0s 46ms/step\n",
      "19\n",
      "1/1 [==============================] - 0s 45ms/step\n",
      "20\n",
      "1/1 [==============================] - 0s 43ms/step\n",
      "21\n",
      "1/1 [==============================] - 0s 46ms/step\n",
      "22\n",
      "1/1 [==============================] - 0s 63ms/step\n",
      "23\n",
      "1/1 [==============================] - 0s 64ms/step\n",
      "24\n",
      "1/1 [==============================] - 0s 70ms/step\n",
      "25\n",
      "1/1 [==============================] - 0s 62ms/step\n",
      "26\n",
      "1/1 [==============================] - 0s 64ms/step\n",
      "27\n",
      "1/1 [==============================] - 0s 62ms/step\n",
      "28\n",
      "1/1 [==============================] - 0s 62ms/step\n",
      "29\n",
      "1/1 [==============================] - 0s 62ms/step\n",
      "30\n",
      "1/1 [==============================] - 0s 65ms/step\n",
      "31\n",
      "1/1 [==============================] - 0s 62ms/step\n",
      "32\n",
      "1/1 [==============================] - 0s 67ms/step\n",
      "33\n",
      "1/1 [==============================] - 0s 65ms/step\n",
      "34\n",
      "1/1 [==============================] - 0s 70ms/step\n",
      "35\n",
      "1/1 [==============================] - 0s 66ms/step\n",
      "36\n",
      "1/1 [==============================] - 0s 64ms/step\n",
      "37\n",
      "1/1 [==============================] - 0s 65ms/step\n",
      "38\n",
      "1/1 [==============================] - 0s 63ms/step\n",
      "39\n",
      "1/1 [==============================] - 0s 63ms/step\n",
      "40\n",
      "1/1 [==============================] - 0s 63ms/step\n",
      "41\n",
      "1/1 [==============================] - 0s 62ms/step\n",
      "42\n",
      "1/1 [==============================] - 0s 63ms/step\n",
      "43\n",
      "1/1 [==============================] - 0s 62ms/step\n",
      "44\n",
      "1/1 [==============================] - 0s 62ms/step\n",
      "45\n",
      "1/1 [==============================] - 0s 63ms/step\n",
      "46\n",
      "1/1 [==============================] - 0s 62ms/step\n",
      "47\n",
      "1/1 [==============================] - 0s 69ms/step\n",
      "48\n",
      "1/1 [==============================] - 0s 61ms/step\n",
      "49\n",
      "1/1 [==============================] - 0s 61ms/step\n",
      "50\n",
      "1/1 [==============================] - 0s 61ms/step\n",
      "51\n",
      "1/1 [==============================] - 0s 61ms/step\n",
      "52\n",
      "1/1 [==============================] - 0s 61ms/step\n",
      "53\n",
      "1/1 [==============================] - 0s 63ms/step\n",
      "54\n",
      "1/1 [==============================] - 0s 63ms/step\n",
      "55\n",
      "1/1 [==============================] - 0s 62ms/step\n",
      "56\n",
      "1/1 [==============================] - 0s 61ms/step\n",
      "57\n",
      "1/1 [==============================] - 0s 65ms/step\n",
      "58\n",
      "1/1 [==============================] - 0s 62ms/step\n",
      "59\n",
      "1/1 [==============================] - 0s 62ms/step\n",
      "60\n",
      "1/1 [==============================] - 0s 63ms/step\n",
      "61\n",
      "1/1 [==============================] - 0s 62ms/step\n",
      "62\n",
      "1/1 [==============================] - 0s 62ms/step\n",
      "63\n",
      "1/1 [==============================] - 0s 65ms/step\n",
      "64\n",
      "1/1 [==============================] - 0s 62ms/step\n",
      "65\n",
      "1/1 [==============================] - 0s 67ms/step\n",
      "66\n",
      "1/1 [==============================] - 0s 64ms/step\n",
      "67\n",
      "1/1 [==============================] - 0s 65ms/step\n",
      "68\n",
      "1/1 [==============================] - 0s 63ms/step\n",
      "69\n",
      "1/1 [==============================] - 0s 61ms/step\n",
      "70\n",
      "1/1 [==============================] - 0s 61ms/step\n",
      "71\n",
      "1/1 [==============================] - 0s 67ms/step\n",
      "72\n",
      "1/1 [==============================] - 0s 60ms/step\n",
      "73\n",
      "1/1 [==============================] - 0s 66ms/step\n",
      "74\n",
      "1/1 [==============================] - 0s 62ms/step\n",
      "75\n",
      "1/1 [==============================] - 0s 64ms/step\n",
      "76\n",
      "1/1 [==============================] - 0s 61ms/step\n",
      "77\n",
      "1/1 [==============================] - 0s 62ms/step\n",
      "78\n",
      "1/1 [==============================] - 0s 59ms/step\n",
      "79\n",
      "1/1 [==============================] - 0s 64ms/step\n",
      "80\n",
      "1/1 [==============================] - 0s 63ms/step\n",
      "81\n",
      "1/1 [==============================] - 0s 67ms/step\n",
      "82\n",
      "1/1 [==============================] - 0s 61ms/step\n",
      "83\n",
      "1/1 [==============================] - 0s 64ms/step\n",
      "84\n",
      "1/1 [==============================] - 0s 64ms/step\n",
      "85\n",
      "1/1 [==============================] - 0s 61ms/step\n",
      "86\n",
      "1/1 [==============================] - 0s 68ms/step\n",
      "87\n",
      "1/1 [==============================] - 0s 61ms/step\n",
      "88\n",
      "1/1 [==============================] - 0s 65ms/step\n",
      "89\n",
      "1/1 [==============================] - 0s 61ms/step\n",
      "90\n",
      "1/1 [==============================] - 0s 60ms/step\n",
      "91\n",
      "1/1 [==============================] - 0s 63ms/step\n",
      "92\n",
      "1/1 [==============================] - 0s 63ms/step\n",
      "93\n",
      "1/1 [==============================] - 0s 62ms/step\n",
      "94\n",
      "1/1 [==============================] - 0s 66ms/step\n",
      "95\n",
      "1/1 [==============================] - 0s 60ms/step\n",
      "96\n",
      "1/1 [==============================] - 0s 60ms/step\n",
      "97\n",
      "1/1 [==============================] - 0s 58ms/step\n",
      "98\n",
      "1/1 [==============================] - 0s 63ms/step\n",
      "99\n"
     ]
    }
   ],
   "source": [
    "# Initialize variables to track correct characters\n",
    "correct_characters = 0\n",
    "total_characters = 0\n",
    "max_images = 100  # Specify the number of images to evaluate\n",
    "\n",
    "# Iterate through the test set\n",
    "for i in range(min(len(test), max_images)):\n",
    "    # Get the ground truth label\n",
    "    ground_truth = test.loc[i, 'IDENTITY']\n",
    "    \n",
    "    # Preprocess and predict the image using your model\n",
    "    img_dir = './test_v2/test/' + test.loc[i, 'FILENAME']\n",
    "    image = cv2.imread(img_dir, cv2.IMREAD_GRAYSCALE)\n",
    "    image = preprocess(image)\n",
    "    image = image / 255.0\n",
    "    pred = model.predict(image.reshape(1, 256, 64, 1))\n",
    "    decoded = tf.keras.backend.get_value(tf.keras.backend.ctc_decode(pred, input_length=np.ones(pred.shape[0])*pred.shape[1], greedy=True)[0][0])\n",
    "    predicted_label = num_to_label(decoded[0])\n",
    "    \n",
    "     # Calculate character-level accuracy\n",
    "    for j in range(min(len(ground_truth), len(predicted_label))):\n",
    "        if ground_truth[j] == predicted_label[j]:\n",
    "            correct_characters += 1\n",
    "        total_characters += 1\n",
    "        \n",
    "    print(i)\n",
    "\n",
    "# Calculate character-level accuracy\n",
    "character_level_accuracy = (correct_characters / total_characters) * 100"
   ],
   "metadata": {
    "collapsed": false,
    "ExecuteTime": {
     "end_time": "2024-04-29T08:43:45.777602600Z",
     "start_time": "2024-04-29T08:43:34.774987800Z"
    }
   },
   "id": "65c0f9643538784a",
   "execution_count": 34
  },
  {
   "cell_type": "code",
   "outputs": [
    {
     "name": "stdout",
     "output_type": "stream",
     "text": [
      "Character-Level Accuracy for 100 images: 93.21%\n"
     ]
    }
   ],
   "source": [
    "print('Character-Level Accuracy for {} images: {:.2f}%'.format(max_images, character_level_accuracy))"
   ],
   "metadata": {
    "collapsed": false,
    "ExecuteTime": {
     "end_time": "2024-04-29T08:43:50.217930700Z",
     "start_time": "2024-04-29T08:43:50.187898100Z"
    }
   },
   "id": "8438fb9451fdbe6f",
   "execution_count": 35
  },
  {
   "cell_type": "code",
   "outputs": [],
   "source": [
    "# 11.1 87.73\n",
    "# 11.2 89.61\n",
    "# 12 90.90\n",
    "# 12_2 92.35\n",
    "# 12_3 93.21  92.87 93.37"
   ],
   "metadata": {
    "collapsed": false,
    "ExecuteTime": {
     "end_time": "2024-04-28T17:32:53.051351200Z",
     "start_time": "2024-04-28T17:32:52.972903100Z"
    }
   },
   "id": "8a13202e60116885",
   "execution_count": 137
  },
  {
   "cell_type": "code",
   "outputs": [
    {
     "name": "stdout",
     "output_type": "stream",
     "text": [
      "1/1 [==============================] - 0s 69ms/step\n",
      "1/1 [==============================] - 0s 68ms/step\n",
      "1/1 [==============================] - 0s 77ms/step\n",
      "1/1 [==============================] - 0s 78ms/step\n",
      "1/1 [==============================] - 0s 61ms/step\n",
      "1/1 [==============================] - 0s 63ms/step\n",
      "1/1 [==============================] - 0s 66ms/step\n",
      "1/1 [==============================] - 0s 65ms/step\n",
      "1/1 [==============================] - 0s 65ms/step\n",
      "1/1 [==============================] - 0s 64ms/step\n",
      "1/1 [==============================] - 0s 63ms/step\n",
      "1/1 [==============================] - 0s 65ms/step\n",
      "1/1 [==============================] - 0s 63ms/step\n",
      "1/1 [==============================] - 0s 64ms/step\n",
      "1/1 [==============================] - 0s 63ms/step\n",
      "1/1 [==============================] - 0s 60ms/step\n",
      "1/1 [==============================] - 0s 61ms/step\n",
      "1/1 [==============================] - 0s 63ms/step\n",
      "1/1 [==============================] - 0s 63ms/step\n",
      "1/1 [==============================] - 0s 62ms/step\n",
      "1/1 [==============================] - 0s 62ms/step\n",
      "1/1 [==============================] - 0s 61ms/step\n",
      "1/1 [==============================] - 0s 64ms/step\n",
      "1/1 [==============================] - 0s 62ms/step\n",
      "1/1 [==============================] - 0s 63ms/step\n",
      "1/1 [==============================] - 0s 63ms/step\n",
      "1/1 [==============================] - 0s 64ms/step\n",
      "1/1 [==============================] - 0s 64ms/step\n",
      "1/1 [==============================] - 0s 63ms/step\n",
      "1/1 [==============================] - 0s 62ms/step\n",
      "1/1 [==============================] - 0s 62ms/step\n",
      "1/1 [==============================] - 0s 61ms/step\n",
      "1/1 [==============================] - 0s 65ms/step\n",
      "1/1 [==============================] - 0s 62ms/step\n",
      "1/1 [==============================] - 0s 60ms/step\n",
      "1/1 [==============================] - 0s 61ms/step\n",
      "1/1 [==============================] - 0s 61ms/step\n",
      "1/1 [==============================] - 0s 62ms/step\n",
      "1/1 [==============================] - 0s 63ms/step\n",
      "1/1 [==============================] - 0s 62ms/step\n",
      "1/1 [==============================] - 0s 62ms/step\n",
      "1/1 [==============================] - 0s 62ms/step\n",
      "1/1 [==============================] - 0s 63ms/step\n",
      "1/1 [==============================] - 0s 62ms/step\n",
      "1/1 [==============================] - 0s 60ms/step\n",
      "1/1 [==============================] - 0s 61ms/step\n",
      "1/1 [==============================] - 0s 62ms/step\n",
      "1/1 [==============================] - 0s 63ms/step\n",
      "1/1 [==============================] - 0s 61ms/step\n",
      "1/1 [==============================] - 0s 61ms/step\n",
      "1/1 [==============================] - 0s 63ms/step\n",
      "1/1 [==============================] - 0s 62ms/step\n",
      "1/1 [==============================] - 0s 63ms/step\n",
      "1/1 [==============================] - 0s 61ms/step\n",
      "1/1 [==============================] - 0s 62ms/step\n",
      "1/1 [==============================] - 0s 61ms/step\n",
      "1/1 [==============================] - 0s 62ms/step\n",
      "1/1 [==============================] - 0s 63ms/step\n",
      "1/1 [==============================] - 0s 61ms/step\n",
      "1/1 [==============================] - 0s 60ms/step\n",
      "1/1 [==============================] - 0s 62ms/step\n",
      "1/1 [==============================] - 0s 62ms/step\n",
      "1/1 [==============================] - 0s 62ms/step\n",
      "1/1 [==============================] - 0s 62ms/step\n",
      "1/1 [==============================] - 0s 61ms/step\n",
      "1/1 [==============================] - 0s 62ms/step\n",
      "1/1 [==============================] - 0s 63ms/step\n",
      "1/1 [==============================] - 0s 62ms/step\n",
      "1/1 [==============================] - 0s 63ms/step\n",
      "1/1 [==============================] - 0s 62ms/step\n",
      "1/1 [==============================] - 0s 61ms/step\n",
      "1/1 [==============================] - 0s 62ms/step\n",
      "1/1 [==============================] - 0s 64ms/step\n",
      "1/1 [==============================] - 0s 61ms/step\n",
      "1/1 [==============================] - 0s 63ms/step\n",
      "1/1 [==============================] - 0s 62ms/step\n",
      "1/1 [==============================] - 0s 63ms/step\n",
      "1/1 [==============================] - 0s 64ms/step\n",
      "1/1 [==============================] - 0s 62ms/step\n",
      "1/1 [==============================] - 0s 61ms/step\n",
      "1/1 [==============================] - 0s 63ms/step\n",
      "1/1 [==============================] - 0s 61ms/step\n",
      "1/1 [==============================] - 0s 62ms/step\n",
      "1/1 [==============================] - 0s 63ms/step\n",
      "1/1 [==============================] - 0s 62ms/step\n",
      "1/1 [==============================] - 0s 62ms/step\n",
      "1/1 [==============================] - 0s 65ms/step\n",
      "1/1 [==============================] - 0s 62ms/step\n",
      "1/1 [==============================] - 0s 61ms/step\n",
      "1/1 [==============================] - 0s 63ms/step\n",
      "1/1 [==============================] - 0s 61ms/step\n",
      "1/1 [==============================] - 0s 64ms/step\n",
      "1/1 [==============================] - 0s 62ms/step\n",
      "1/1 [==============================] - 0s 59ms/step\n",
      "1/1 [==============================] - 0s 62ms/step\n",
      "1/1 [==============================] - 0s 62ms/step\n",
      "1/1 [==============================] - 0s 64ms/step\n",
      "1/1 [==============================] - 0s 63ms/step\n",
      "1/1 [==============================] - 0s 62ms/step\n",
      "1/1 [==============================] - 0s 63ms/step\n",
      "1/1 [==============================] - 0s 61ms/step\n",
      "1/1 [==============================] - 0s 62ms/step\n",
      "1/1 [==============================] - 0s 62ms/step\n",
      "1/1 [==============================] - 0s 61ms/step\n",
      "1/1 [==============================] - 0s 61ms/step\n",
      "1/1 [==============================] - 0s 62ms/step\n",
      "1/1 [==============================] - 0s 63ms/step\n",
      "1/1 [==============================] - 0s 61ms/step\n",
      "1/1 [==============================] - 0s 63ms/step\n",
      "1/1 [==============================] - 0s 61ms/step\n",
      "1/1 [==============================] - 0s 62ms/step\n",
      "1/1 [==============================] - 0s 62ms/step\n",
      "1/1 [==============================] - 0s 62ms/step\n",
      "1/1 [==============================] - 0s 63ms/step\n",
      "1/1 [==============================] - 0s 62ms/step\n",
      "1/1 [==============================] - 0s 61ms/step\n",
      "1/1 [==============================] - 0s 61ms/step\n",
      "1/1 [==============================] - 0s 61ms/step\n",
      "1/1 [==============================] - 0s 63ms/step\n",
      "1/1 [==============================] - 0s 61ms/step\n",
      "1/1 [==============================] - 0s 61ms/step\n",
      "1/1 [==============================] - 0s 62ms/step\n",
      "1/1 [==============================] - 0s 62ms/step\n",
      "1/1 [==============================] - 0s 62ms/step\n",
      "1/1 [==============================] - 0s 62ms/step\n",
      "1/1 [==============================] - 0s 61ms/step\n",
      "1/1 [==============================] - 0s 60ms/step\n",
      "1/1 [==============================] - 0s 63ms/step\n",
      "1/1 [==============================] - 0s 62ms/step\n",
      "1/1 [==============================] - 0s 63ms/step\n",
      "1/1 [==============================] - 0s 62ms/step\n",
      "1/1 [==============================] - 0s 61ms/step\n",
      "1/1 [==============================] - 0s 61ms/step\n",
      "1/1 [==============================] - 0s 62ms/step\n",
      "1/1 [==============================] - 0s 63ms/step\n",
      "1/1 [==============================] - 0s 62ms/step\n",
      "1/1 [==============================] - 0s 64ms/step\n",
      "1/1 [==============================] - 0s 62ms/step\n",
      "1/1 [==============================] - 0s 62ms/step\n",
      "1/1 [==============================] - 0s 61ms/step\n",
      "1/1 [==============================] - 0s 61ms/step\n",
      "1/1 [==============================] - 0s 61ms/step\n",
      "1/1 [==============================] - 0s 61ms/step\n",
      "1/1 [==============================] - 0s 61ms/step\n",
      "1/1 [==============================] - 0s 62ms/step\n",
      "1/1 [==============================] - 0s 60ms/step\n",
      "1/1 [==============================] - 0s 61ms/step\n",
      "1/1 [==============================] - 0s 62ms/step\n",
      "1/1 [==============================] - 0s 62ms/step\n",
      "1/1 [==============================] - 0s 61ms/step\n",
      "1/1 [==============================] - 0s 62ms/step\n",
      "1/1 [==============================] - 0s 61ms/step\n",
      "1/1 [==============================] - 0s 61ms/step\n",
      "1/1 [==============================] - 0s 60ms/step\n",
      "1/1 [==============================] - 0s 62ms/step\n",
      "1/1 [==============================] - 0s 61ms/step\n",
      "1/1 [==============================] - 0s 61ms/step\n",
      "1/1 [==============================] - 0s 61ms/step\n",
      "1/1 [==============================] - 0s 62ms/step\n",
      "1/1 [==============================] - 0s 62ms/step\n",
      "1/1 [==============================] - 0s 62ms/step\n",
      "1/1 [==============================] - 0s 61ms/step\n",
      "1/1 [==============================] - 0s 63ms/step\n",
      "1/1 [==============================] - 0s 61ms/step\n",
      "1/1 [==============================] - 0s 62ms/step\n",
      "1/1 [==============================] - 0s 60ms/step\n",
      "1/1 [==============================] - 0s 62ms/step\n",
      "1/1 [==============================] - 0s 62ms/step\n",
      "1/1 [==============================] - 0s 61ms/step\n",
      "1/1 [==============================] - 0s 61ms/step\n",
      "1/1 [==============================] - 0s 61ms/step\n",
      "1/1 [==============================] - 0s 60ms/step\n",
      "1/1 [==============================] - 0s 60ms/step\n",
      "1/1 [==============================] - 0s 62ms/step\n",
      "1/1 [==============================] - 0s 63ms/step\n",
      "1/1 [==============================] - 0s 61ms/step\n",
      "1/1 [==============================] - 0s 63ms/step\n",
      "1/1 [==============================] - 0s 62ms/step\n",
      "1/1 [==============================] - 0s 61ms/step\n",
      "1/1 [==============================] - 0s 63ms/step\n",
      "1/1 [==============================] - 0s 62ms/step\n",
      "1/1 [==============================] - 0s 61ms/step\n",
      "1/1 [==============================] - 0s 62ms/step\n",
      "1/1 [==============================] - 0s 64ms/step\n",
      "1/1 [==============================] - 0s 62ms/step\n",
      "1/1 [==============================] - 0s 61ms/step\n",
      "1/1 [==============================] - 0s 61ms/step\n",
      "1/1 [==============================] - 0s 62ms/step\n",
      "1/1 [==============================] - 0s 61ms/step\n",
      "1/1 [==============================] - 0s 62ms/step\n",
      "1/1 [==============================] - 0s 62ms/step\n",
      "1/1 [==============================] - 0s 62ms/step\n",
      "1/1 [==============================] - 0s 60ms/step\n",
      "1/1 [==============================] - 0s 63ms/step\n",
      "1/1 [==============================] - 0s 63ms/step\n",
      "1/1 [==============================] - 0s 60ms/step\n",
      "1/1 [==============================] - 0s 65ms/step\n",
      "1/1 [==============================] - 0s 61ms/step\n",
      "1/1 [==============================] - 0s 62ms/step\n",
      "1/1 [==============================] - 0s 62ms/step\n",
      "1/1 [==============================] - 0s 62ms/step\n",
      "1/1 [==============================] - 0s 62ms/step\n",
      "1/1 [==============================] - 0s 62ms/step\n",
      "1/1 [==============================] - 0s 62ms/step\n",
      "1/1 [==============================] - 0s 62ms/step\n",
      "1/1 [==============================] - 0s 62ms/step\n",
      "1/1 [==============================] - 0s 60ms/step\n",
      "1/1 [==============================] - 0s 61ms/step\n",
      "1/1 [==============================] - 0s 62ms/step\n",
      "1/1 [==============================] - 0s 61ms/step\n",
      "1/1 [==============================] - 0s 62ms/step\n",
      "1/1 [==============================] - 0s 61ms/step\n",
      "1/1 [==============================] - 0s 62ms/step\n",
      "1/1 [==============================] - 0s 63ms/step\n",
      "1/1 [==============================] - 0s 61ms/step\n",
      "1/1 [==============================] - 0s 61ms/step\n",
      "1/1 [==============================] - 0s 62ms/step\n",
      "1/1 [==============================] - 0s 61ms/step\n",
      "1/1 [==============================] - 0s 61ms/step\n",
      "1/1 [==============================] - 0s 59ms/step\n",
      "1/1 [==============================] - 0s 62ms/step\n",
      "1/1 [==============================] - 0s 64ms/step\n",
      "1/1 [==============================] - 0s 62ms/step\n",
      "1/1 [==============================] - 0s 62ms/step\n",
      "1/1 [==============================] - 0s 72ms/step\n",
      "1/1 [==============================] - 0s 62ms/step\n",
      "1/1 [==============================] - 0s 61ms/step\n",
      "1/1 [==============================] - 0s 62ms/step\n",
      "1/1 [==============================] - 0s 66ms/step\n",
      "1/1 [==============================] - 0s 62ms/step\n",
      "1/1 [==============================] - 0s 64ms/step\n",
      "1/1 [==============================] - 0s 60ms/step\n",
      "1/1 [==============================] - 0s 62ms/step\n",
      "1/1 [==============================] - 0s 63ms/step\n",
      "1/1 [==============================] - 0s 61ms/step\n",
      "1/1 [==============================] - 0s 63ms/step\n",
      "1/1 [==============================] - 0s 63ms/step\n",
      "1/1 [==============================] - 0s 63ms/step\n",
      "1/1 [==============================] - 0s 62ms/step\n",
      "1/1 [==============================] - 0s 62ms/step\n",
      "1/1 [==============================] - 0s 64ms/step\n",
      "1/1 [==============================] - 0s 62ms/step\n",
      "1/1 [==============================] - 0s 63ms/step\n",
      "1/1 [==============================] - 0s 63ms/step\n",
      "1/1 [==============================] - 0s 63ms/step\n",
      "1/1 [==============================] - 0s 63ms/step\n",
      "1/1 [==============================] - 0s 61ms/step\n",
      "1/1 [==============================] - 0s 61ms/step\n",
      "1/1 [==============================] - 0s 64ms/step\n",
      "1/1 [==============================] - 0s 61ms/step\n",
      "1/1 [==============================] - 0s 62ms/step\n",
      "1/1 [==============================] - 0s 61ms/step\n",
      "1/1 [==============================] - 0s 63ms/step\n",
      "1/1 [==============================] - 0s 61ms/step\n",
      "1/1 [==============================] - 0s 61ms/step\n",
      "1/1 [==============================] - 0s 60ms/step\n",
      "1/1 [==============================] - 0s 62ms/step\n",
      "1/1 [==============================] - 0s 62ms/step\n",
      "1/1 [==============================] - 0s 61ms/step\n",
      "1/1 [==============================] - 0s 61ms/step\n",
      "1/1 [==============================] - 0s 63ms/step\n",
      "1/1 [==============================] - 0s 62ms/step\n",
      "1/1 [==============================] - 0s 63ms/step\n",
      "1/1 [==============================] - 0s 63ms/step\n",
      "1/1 [==============================] - 0s 62ms/step\n",
      "1/1 [==============================] - 0s 62ms/step\n",
      "1/1 [==============================] - 0s 62ms/step\n",
      "1/1 [==============================] - 0s 62ms/step\n",
      "1/1 [==============================] - 0s 63ms/step\n",
      "1/1 [==============================] - 0s 61ms/step\n",
      "1/1 [==============================] - 0s 65ms/step\n",
      "1/1 [==============================] - 0s 63ms/step\n",
      "1/1 [==============================] - 0s 63ms/step\n",
      "1/1 [==============================] - 0s 61ms/step\n",
      "1/1 [==============================] - 0s 62ms/step\n",
      "1/1 [==============================] - 0s 61ms/step\n",
      "1/1 [==============================] - 0s 63ms/step\n",
      "1/1 [==============================] - 0s 62ms/step\n",
      "1/1 [==============================] - 0s 60ms/step\n",
      "1/1 [==============================] - 0s 63ms/step\n",
      "1/1 [==============================] - 0s 64ms/step\n",
      "1/1 [==============================] - 0s 62ms/step\n",
      "1/1 [==============================] - 0s 61ms/step\n",
      "1/1 [==============================] - 0s 63ms/step\n",
      "1/1 [==============================] - 0s 61ms/step\n",
      "1/1 [==============================] - 0s 62ms/step\n",
      "1/1 [==============================] - 0s 64ms/step\n",
      "1/1 [==============================] - 0s 61ms/step\n",
      "1/1 [==============================] - 0s 62ms/step\n",
      "1/1 [==============================] - 0s 61ms/step\n",
      "1/1 [==============================] - 0s 64ms/step\n",
      "1/1 [==============================] - 0s 62ms/step\n",
      "1/1 [==============================] - 0s 63ms/step\n",
      "1/1 [==============================] - 0s 61ms/step\n",
      "1/1 [==============================] - 0s 62ms/step\n",
      "1/1 [==============================] - 0s 61ms/step\n",
      "1/1 [==============================] - 0s 61ms/step\n",
      "1/1 [==============================] - 0s 63ms/step\n",
      "1/1 [==============================] - 0s 62ms/step\n",
      "1/1 [==============================] - 0s 61ms/step\n",
      "1/1 [==============================] - 0s 62ms/step\n",
      "1/1 [==============================] - 0s 62ms/step\n",
      "1/1 [==============================] - 0s 62ms/step\n",
      "1/1 [==============================] - 0s 61ms/step\n",
      "1/1 [==============================] - 0s 63ms/step\n",
      "1/1 [==============================] - 0s 62ms/step\n",
      "1/1 [==============================] - 0s 61ms/step\n",
      "1/1 [==============================] - 0s 62ms/step\n",
      "1/1 [==============================] - 0s 62ms/step\n",
      "1/1 [==============================] - 0s 63ms/step\n",
      "1/1 [==============================] - 0s 65ms/step\n",
      "1/1 [==============================] - 0s 62ms/step\n",
      "1/1 [==============================] - 0s 93ms/step\n",
      "1/1 [==============================] - 0s 90ms/step\n",
      "1/1 [==============================] - 0s 61ms/step\n",
      "1/1 [==============================] - 0s 67ms/step\n",
      "1/1 [==============================] - 0s 62ms/step\n",
      "1/1 [==============================] - 0s 62ms/step\n",
      "1/1 [==============================] - 0s 84ms/step\n",
      "1/1 [==============================] - 0s 63ms/step\n",
      "1/1 [==============================] - 0s 68ms/step\n",
      "1/1 [==============================] - 0s 61ms/step\n",
      "1/1 [==============================] - 0s 62ms/step\n",
      "1/1 [==============================] - 0s 61ms/step\n",
      "1/1 [==============================] - 0s 60ms/step\n",
      "1/1 [==============================] - 0s 66ms/step\n",
      "1/1 [==============================] - 0s 61ms/step\n",
      "1/1 [==============================] - 0s 63ms/step\n",
      "1/1 [==============================] - 0s 60ms/step\n",
      "1/1 [==============================] - 0s 60ms/step\n",
      "1/1 [==============================] - 0s 84ms/step\n",
      "1/1 [==============================] - 0s 63ms/step\n",
      "1/1 [==============================] - 0s 65ms/step\n",
      "1/1 [==============================] - 0s 61ms/step\n",
      "1/1 [==============================] - 0s 60ms/step\n",
      "1/1 [==============================] - 0s 62ms/step\n",
      "1/1 [==============================] - 0s 64ms/step\n",
      "1/1 [==============================] - 0s 79ms/step\n",
      "1/1 [==============================] - 0s 61ms/step\n",
      "1/1 [==============================] - 0s 68ms/step\n",
      "1/1 [==============================] - 0s 62ms/step\n",
      "1/1 [==============================] - 0s 64ms/step\n",
      "1/1 [==============================] - 0s 62ms/step\n",
      "1/1 [==============================] - 0s 62ms/step\n",
      "1/1 [==============================] - 0s 83ms/step\n",
      "1/1 [==============================] - 0s 64ms/step\n",
      "1/1 [==============================] - 0s 113ms/step\n",
      "1/1 [==============================] - 0s 63ms/step\n",
      "1/1 [==============================] - 0s 79ms/step\n",
      "1/1 [==============================] - 0s 69ms/step\n",
      "1/1 [==============================] - 0s 67ms/step\n",
      "1/1 [==============================] - 0s 69ms/step\n",
      "1/1 [==============================] - 0s 64ms/step\n",
      "1/1 [==============================] - 0s 65ms/step\n",
      "1/1 [==============================] - 0s 67ms/step\n",
      "1/1 [==============================] - 0s 67ms/step\n",
      "1/1 [==============================] - 0s 62ms/step\n",
      "1/1 [==============================] - 0s 66ms/step\n",
      "1/1 [==============================] - 0s 69ms/step\n",
      "1/1 [==============================] - 0s 64ms/step\n",
      "1/1 [==============================] - 0s 69ms/step\n",
      "1/1 [==============================] - 0s 74ms/step\n",
      "1/1 [==============================] - 0s 62ms/step\n",
      "1/1 [==============================] - 0s 62ms/step\n",
      "1/1 [==============================] - 0s 65ms/step\n",
      "1/1 [==============================] - 0s 64ms/step\n",
      "1/1 [==============================] - 0s 66ms/step\n",
      "1/1 [==============================] - 0s 68ms/step\n",
      "1/1 [==============================] - 0s 65ms/step\n",
      "1/1 [==============================] - 0s 65ms/step\n",
      "1/1 [==============================] - 0s 61ms/step\n",
      "1/1 [==============================] - 0s 63ms/step\n",
      "1/1 [==============================] - 0s 61ms/step\n",
      "1/1 [==============================] - 0s 67ms/step\n",
      "1/1 [==============================] - 0s 61ms/step\n",
      "1/1 [==============================] - 0s 63ms/step\n",
      "1/1 [==============================] - 0s 65ms/step\n",
      "1/1 [==============================] - 0s 62ms/step\n",
      "1/1 [==============================] - 0s 65ms/step\n",
      "1/1 [==============================] - 0s 68ms/step\n",
      "1/1 [==============================] - 0s 63ms/step\n",
      "1/1 [==============================] - 0s 64ms/step\n",
      "1/1 [==============================] - 0s 65ms/step\n",
      "1/1 [==============================] - 0s 62ms/step\n",
      "1/1 [==============================] - 0s 67ms/step\n",
      "1/1 [==============================] - 0s 67ms/step\n",
      "1/1 [==============================] - 0s 74ms/step\n",
      "1/1 [==============================] - 0s 64ms/step\n",
      "1/1 [==============================] - 0s 65ms/step\n",
      "1/1 [==============================] - 0s 63ms/step\n",
      "1/1 [==============================] - 0s 68ms/step\n",
      "1/1 [==============================] - 0s 65ms/step\n",
      "1/1 [==============================] - 0s 67ms/step\n",
      "1/1 [==============================] - 0s 65ms/step\n",
      "1/1 [==============================] - 0s 63ms/step\n",
      "1/1 [==============================] - 0s 62ms/step\n",
      "1/1 [==============================] - 0s 68ms/step\n",
      "1/1 [==============================] - 0s 67ms/step\n",
      "1/1 [==============================] - 0s 63ms/step\n",
      "1/1 [==============================] - 0s 63ms/step\n",
      "1/1 [==============================] - 0s 65ms/step\n",
      "1/1 [==============================] - 0s 65ms/step\n",
      "1/1 [==============================] - 0s 68ms/step\n",
      "1/1 [==============================] - 0s 65ms/step\n",
      "1/1 [==============================] - 0s 63ms/step\n",
      "1/1 [==============================] - 0s 64ms/step\n",
      "1/1 [==============================] - 0s 72ms/step\n",
      "1/1 [==============================] - 0s 68ms/step\n",
      "1/1 [==============================] - 0s 62ms/step\n",
      "1/1 [==============================] - 0s 64ms/step\n",
      "1/1 [==============================] - 0s 66ms/step\n",
      "1/1 [==============================] - 0s 68ms/step\n",
      "1/1 [==============================] - 0s 65ms/step\n",
      "1/1 [==============================] - 0s 65ms/step\n",
      "1/1 [==============================] - 0s 65ms/step\n",
      "1/1 [==============================] - 0s 68ms/step\n",
      "1/1 [==============================] - 0s 70ms/step\n",
      "1/1 [==============================] - 0s 67ms/step\n",
      "1/1 [==============================] - 0s 67ms/step\n",
      "1/1 [==============================] - 0s 65ms/step\n",
      "1/1 [==============================] - 0s 71ms/step\n",
      "1/1 [==============================] - 0s 68ms/step\n",
      "1/1 [==============================] - 0s 71ms/step\n",
      "1/1 [==============================] - 0s 63ms/step\n",
      "1/1 [==============================] - 0s 66ms/step\n",
      "1/1 [==============================] - 0s 69ms/step\n",
      "1/1 [==============================] - 0s 69ms/step\n",
      "1/1 [==============================] - 0s 68ms/step\n",
      "1/1 [==============================] - 0s 64ms/step\n",
      "1/1 [==============================] - 0s 71ms/step\n",
      "1/1 [==============================] - 0s 65ms/step\n",
      "1/1 [==============================] - 0s 69ms/step\n",
      "1/1 [==============================] - 0s 63ms/step\n",
      "1/1 [==============================] - 0s 67ms/step\n",
      "1/1 [==============================] - 0s 66ms/step\n",
      "1/1 [==============================] - 0s 65ms/step\n",
      "1/1 [==============================] - 0s 70ms/step\n",
      "1/1 [==============================] - 0s 64ms/step\n",
      "1/1 [==============================] - 0s 74ms/step\n",
      "1/1 [==============================] - 0s 65ms/step\n",
      "1/1 [==============================] - 0s 67ms/step\n",
      "1/1 [==============================] - 0s 66ms/step\n",
      "1/1 [==============================] - 0s 64ms/step\n",
      "1/1 [==============================] - 0s 73ms/step\n",
      "1/1 [==============================] - 0s 63ms/step\n",
      "1/1 [==============================] - 0s 64ms/step\n",
      "1/1 [==============================] - 0s 61ms/step\n",
      "1/1 [==============================] - 0s 61ms/step\n",
      "1/1 [==============================] - 0s 59ms/step\n",
      "1/1 [==============================] - 0s 62ms/step\n",
      "1/1 [==============================] - 0s 75ms/step\n",
      "1/1 [==============================] - 0s 60ms/step\n",
      "1/1 [==============================] - 0s 68ms/step\n",
      "1/1 [==============================] - 0s 60ms/step\n",
      "1/1 [==============================] - 0s 67ms/step\n",
      "1/1 [==============================] - 0s 70ms/step\n",
      "1/1 [==============================] - 0s 61ms/step\n",
      "1/1 [==============================] - 0s 65ms/step\n",
      "1/1 [==============================] - 0s 65ms/step\n",
      "1/1 [==============================] - 0s 62ms/step\n",
      "1/1 [==============================] - 0s 63ms/step\n",
      "1/1 [==============================] - 0s 66ms/step\n",
      "1/1 [==============================] - 0s 66ms/step\n",
      "1/1 [==============================] - 0s 65ms/step\n",
      "1/1 [==============================] - 0s 61ms/step\n",
      "1/1 [==============================] - 0s 70ms/step\n",
      "1/1 [==============================] - 0s 65ms/step\n",
      "1/1 [==============================] - 0s 66ms/step\n",
      "1/1 [==============================] - 0s 63ms/step\n",
      "1/1 [==============================] - 0s 65ms/step\n",
      "1/1 [==============================] - 0s 62ms/step\n",
      "1/1 [==============================] - 0s 64ms/step\n",
      "1/1 [==============================] - 0s 68ms/step\n",
      "1/1 [==============================] - 0s 69ms/step\n",
      "1/1 [==============================] - 0s 65ms/step\n",
      "1/1 [==============================] - 0s 68ms/step\n",
      "1/1 [==============================] - 0s 62ms/step\n",
      "1/1 [==============================] - 0s 64ms/step\n",
      "1/1 [==============================] - 0s 65ms/step\n",
      "1/1 [==============================] - 0s 65ms/step\n",
      "1/1 [==============================] - 0s 65ms/step\n",
      "1/1 [==============================] - 0s 65ms/step\n",
      "1/1 [==============================] - 0s 60ms/step\n",
      "1/1 [==============================] - 0s 60ms/step\n",
      "1/1 [==============================] - 0s 62ms/step\n",
      "1/1 [==============================] - 0s 63ms/step\n",
      "1/1 [==============================] - 0s 61ms/step\n",
      "1/1 [==============================] - 0s 65ms/step\n",
      "1/1 [==============================] - 0s 65ms/step\n",
      "1/1 [==============================] - 0s 64ms/step\n",
      "1/1 [==============================] - 0s 68ms/step\n",
      "1/1 [==============================] - 0s 63ms/step\n",
      "1/1 [==============================] - 0s 62ms/step\n",
      "1/1 [==============================] - 0s 61ms/step\n",
      "1/1 [==============================] - 0s 61ms/step\n",
      "1/1 [==============================] - 0s 65ms/step\n",
      "1/1 [==============================] - 0s 63ms/step\n",
      "1/1 [==============================] - 0s 60ms/step\n",
      "1/1 [==============================] - 0s 64ms/step\n",
      "1/1 [==============================] - 0s 65ms/step\n",
      "Character\tErrors\n",
      "E\t31\n",
      "R\t25\n",
      "A\t23\n",
      "T\t17\n",
      "O\t16\n",
      "D\t15\n",
      "L\t15\n",
      "I\t14\n",
      "N\t13\n",
      "M\t13\n",
      "S\t12\n",
      "U\t11\n",
      "H\t10\n",
      "V\t8\n",
      "P\t6\n",
      "C\t6\n",
      "Y\t5\n",
      "G\t4\n",
      " \t4\n",
      "B\t4\n",
      "-\t2\n",
      "Z\t2\n",
      "Q\t2\n",
      "J\t2\n",
      "F\t1\n",
      "W\t1\n"
     ]
    }
   ],
   "source": [
    "# Initialize a dictionary to track errors for each character\n",
    "character_errors = {}\n",
    "max_images = 500\n",
    "# Iterate through the test set\n",
    "for i in range(min(len(test), max_images)):\n",
    "    # Get the ground truth label\n",
    "    ground_truth = test.loc[i, 'IDENTITY']\n",
    "    \n",
    "    # Preprocess and predict the image using your model\n",
    "    img_dir = './test_v2/test/' + test.loc[i, 'FILENAME']\n",
    "    image = cv2.imread(img_dir, cv2.IMREAD_GRAYSCALE)\n",
    "    image = preprocess(image)\n",
    "    image = image / 255.0\n",
    "    pred = model.predict(image.reshape(1, 256, 64, 1))\n",
    "    decoded = tf.keras.backend.get_value(tf.keras.backend.ctc_decode(pred, input_length=np.ones(pred.shape[0])*pred.shape[1], greedy=True)[0][0])\n",
    "    predicted_label = num_to_label(decoded[0])\n",
    "    \n",
    "    # Calculate errors for each character\n",
    "    for j in range(min(len(ground_truth), len(predicted_label))):\n",
    "        if ground_truth[j] != predicted_label[j]:\n",
    "            if ground_truth[j] not in character_errors:\n",
    "                character_errors[ground_truth[j]] = 1\n",
    "            else:\n",
    "                character_errors[ground_truth[j]] += 1\n",
    "                \n",
    "# Print characters with the most errors\n",
    "sorted_errors = sorted(character_errors.items(), key=lambda x: x[1], reverse=True)\n",
    "print(\"Character\\tErrors\")\n",
    "for char, errors in sorted_errors:\n",
    "    print(f\"{char}\\t{errors}\")\n"
   ],
   "metadata": {
    "collapsed": false,
    "ExecuteTime": {
     "end_time": "2024-04-28T22:03:43.768367400Z",
     "start_time": "2024-04-28T22:02:48.762067700Z"
    }
   },
   "id": "1a12bfaaf982db0c",
   "execution_count": 142
  },
  {
   "cell_type": "code",
   "outputs": [
    {
     "name": "stdout",
     "output_type": "stream",
     "text": [
      "[('I', 21), ('E', 21), ('R', 20), ('A', 15), ('O', 15), ('M', 14), ('S', 13), ('D', 13), ('N', 12), ('T', 10), ('L', 8), ('U', 8), ('V', 7), ('Y', 7), ('H', 6), ('P', 4), ('C', 4), (' ', 4), ('Z', 3), ('B', 3), ('Q', 2), ('J', 2), ('-', 1), ('F', 1), ('G', 1), ('K', 1), ('W', 1)]\n"
     ]
    }
   ],
   "source": [
    "print(sorted_errors)"
   ],
   "metadata": {
    "collapsed": false,
    "ExecuteTime": {
     "end_time": "2024-04-28T21:23:11.235641700Z",
     "start_time": "2024-04-28T21:23:11.170607800Z"
    }
   },
   "id": "3281afa368e34c9e",
   "execution_count": 71
  },
  {
   "cell_type": "code",
   "outputs": [
    {
     "name": "stdout",
     "output_type": "stream",
     "text": [
      "Train indexes with more than 2 occurrences of the first 12 characters: [15, 102, 136, 558, 675, 753, 1259, 1499, 1616, 1759, 1773, 1800, 2220, 3290, 3388, 3855, 6007, 7411, 7517, 8237, 8362, 8714, 8724, 8747, 8862, 9094, 9362, 9881, 10259, 10268, 10680, 11150, 11342, 11418, 11600, 12234, 12396, 13026, 13092, 13407, 13419, 13880, 14047, 14064, 14419, 14679, 15004, 15718, 15909, 16088, 16241, 16410, 16571, 16661, 16732, 16996, 19705, 19746, 19833, 20231, 20316, 20710, 20748, 21741, 21864, 22002, 22094, 22270, 24395, 24832, 24922, 25036, 25327, 25419, 26551, 26759, 26968, 27264, 27763, 28206, 28556, 28786, 29033, 29158, 29327, 29395, 29811, 30419, 30450, 30817, 31464, 32373, 32673, 33190, 33371, 33571, 33652, 34352, 34527, 34650, 34738, 34824, 34962, 35027, 35067, 35498, 36993, 37382, 37426, 37586, 37591, 37611, 38064, 38261, 39113, 39615, 39902, 39965, 40111, 40653, 40923, 41680, 41736, 42133, 42184, 42476, 43167, 43918, 44019, 45420, 46583, 46657, 48716, 48995, 49353, 49377, 49916, 50519, 50556, 50637, 50779, 50914, 50954, 51123, 51258, 51268, 51680, 52428, 53055, 54236, 54534, 54891, 55256, 55402, 55729, 55784, 55843, 55935, 56286, 56548, 56634, 56649, 57114, 57356, 57394, 57975, 58180, 58468, 59199, 59521, 59547, 60319, 60370, 60410, 61198, 61227, 61252, 61290, 61315, 61376, 61576, 61793, 62066, 62132, 62310, 62560, 62819, 63027, 63055, 63225, 63310, 63709, 64012, 65222, 65481, 65552, 65983, 66264, 66994, 67264, 67276, 67402, 67450, 68557, 68897, 69254, 69976, 70085, 70420, 70445, 70480, 70623, 70987, 71066, 71244, 71803, 72925, 72957, 74083, 74157, 74483, 75197, 75220, 75362, 75638, 76812, 77019, 78316, 78778, 79606, 79891, 80264, 80330, 80361, 81138, 81340, 81692, 81753, 82217, 82528, 82678, 83153, 83990, 84361, 84514, 84787, 84887, 84980, 85315, 85685, 85820, 85866, 85970, 86078, 86310, 86779, 87107, 87158, 87241, 89072, 89112, 89733, 90159, 90649, 90671, 91040, 91124, 91904, 92329, 93037, 93328, 93566, 93571, 94339, 94889, 94952, 95720, 96042, 96570, 96784, 97069, 97183, 97729, 97840, 98140, 98680, 99370, 99790, 100016, 101375, 101846, 101874, 102397, 102713, 103164, 104326, 105052, 105855, 106246, 107022, 107381, 107404, 108033, 109305, 109640, 110076, 110449, 110933, 110948, 111420, 111685, 111967, 112009, 112032, 112182, 112313, 112371, 112677, 113866, 114057, 114084, 114185, 115347, 115558, 116088, 116127, 116328, 117281, 117493, 117739, 117797, 117981, 118623, 118690, 118925, 119545, 120149, 120844, 120879, 120951, 121037, 121108, 121495, 121865, 122693, 123921, 124006, 124079, 124326, 124398, 124630, 125041, 125680, 126114, 126587, 126860, 127139, 127388, 127473, 127682, 127998, 128293, 128384, 128571, 128841, 129457, 129626, 129861, 129964, 130120, 130336, 130476, 130748, 130762, 130999, 131249, 131452, 131522, 131539, 132383, 132514, 132891, 133953, 133983, 134682, 134817, 135257, 135686, 136345, 136463, 136620, 136657, 137110, 137146, 137255, 137293, 137492, 137619, 137791, 137854, 137898, 138548, 138855, 139119, 139341, 139516, 139540, 140294, 140578, 140629, 140893, 141610, 141810, 142508, 142923, 142994, 144989, 145550, 146540, 146609, 147184, 147486, 147694, 147957, 148037, 149266, 150289, 150547, 150734, 150793, 150871, 151564, 151770, 152249, 152383, 152492, 152746, 152747, 152958, 153726, 154039, 154076, 154167, 154246, 154606, 155839, 156013, 156199, 157509, 157612, 157649, 157681, 158270, 158531, 158858, 159005, 160226, 160572, 161017, 161825, 161827, 162071, 162565, 162660, 163052, 163457, 163569, 164019, 164807, 166204, 166324, 166531, 166736, 166918, 167024, 167162, 167169, 167286, 167338, 167523, 168026, 168870, 168947, 169724, 169818, 170175, 171103, 171756, 173885, 174155, 174506, 174972, 175455, 175834, 176084, 176323, 176474, 176498, 176649, 177943, 178102, 178190, 178789, 179133, 179389, 179588, 180507, 181748, 181763, 182995, 183119, 183136, 183211, 183914, 184825, 185454, 185464, 185570, 185582, 186032, 186488, 186619, 186737, 187807, 189204, 189638, 190416, 190547, 190552, 190610, 190920, 191246, 191374, 191520, 191525, 191820, 191838, 193900, 193974, 194557, 195124, 195542, 195859, 195984, 196129, 196204, 196815, 196879, 196902, 197810, 197885, 198177, 198689, 199258, 199960, 200110, 200141, 200187, 200630, 200920, 201996, 202125, 202401, 202602, 202629, 202784, 202834, 202862, 202896, 202985, 203049, 203258, 204331, 204370, 204384, 204541, 206064, 206218, 206284, 206864, 207331, 207473, 207856, 208500, 208966, 209061, 209230, 209694, 209876, 210025, 210337, 210473, 210859, 211342, 211635, 211823, 212093, 212929, 213230, 213384, 214164, 214357, 214563, 215314, 215384, 215725, 217514, 217616, 218510, 218552, 218949, 219215, 219222, 219292, 220406, 220584, 220892, 221871, 221903, 222939, 223161, 223340, 223460, 223592, 223726, 223883, 223908, 224289, 224768, 225236, 225354, 225406, 225476, 225530, 225660, 226026, 226430, 227155, 227652, 228933, 229143, 229726, 230693, 230695, 231789, 231897, 232336, 232364, 232746, 233266, 233859, 233940, 234380, 235355, 235414, 236379, 236552, 236869, 237122, 237485, 237661, 239711, 240029, 240830, 242276, 242401, 242956, 243036, 243233, 243251, 243455, 243841, 244257, 244607, 244919, 245577, 245717, 246578, 246712, 247614, 248127, 248132, 248232, 248550, 248841, 250621, 251005, 251227, 251335, 251833, 252475, 252583, 253553, 253905, 254378, 254605, 254698, 254717, 255148, 255946, 256122, 256545, 256647, 257037, 257237, 257593, 257777, 257933, 258064, 258123, 258353, 258691, 258920, 259396, 259800, 260352, 260535, 260654, 260926, 260955, 261276, 261367, 261697, 261770, 262543, 263205, 263382, 263472, 263907, 264429, 264454, 264823, 265192, 265468, 265880, 266195, 267158, 267541, 269569, 270265, 270527, 270533, 270740, 270953, 271004, 271127, 271168, 271612, 271904, 271948, 272512, 272525, 272694, 272723, 272891, 273675, 273682, 273769, 273966, 274314, 274780, 274924, 275495, 276314, 276347, 276349, 276512, 276955, 277477, 277613, 277738, 277901, 278323, 278840, 279011, 279235, 279265, 280057, 280444, 280584, 281598, 282189, 282192, 282950, 283463, 283513, 283918, 284129, 284195, 284252, 284280, 284760, 285122, 285186, 285280, 285376, 285456, 285486, 285794, 286336, 286480, 286960, 287930, 288261, 288442, 288604, 288656, 289041, 289643, 289844, 289877, 290093, 290202, 290436, 290551, 290607, 290635, 290849, 291514, 291580, 291761, 292833, 292956, 293165, 293528, 293675, 293825, 295592, 296001, 296763, 297095, 297580, 297832, 297934, 298198, 299131, 299369, 299488, 299788, 299871, 299995, 300130, 300534, 300791, 301664, 302374, 302888, 302907, 303109, 304217, 304287, 304526, 305223, 305782, 306042, 306121, 306346, 306354, 306526, 306530, 306844, 306943, 307334, 307983, 308400, 308658, 309178, 309540, 309936, 309967, 310175, 311149, 311240, 311928, 312388, 312424, 312463, 312567, 312815, 313373, 313612, 314253, 314267, 314334, 314506, 314705, 315285, 315319, 315491, 315554, 315992, 316442, 316610, 316685, 316755, 316915, 316950, 317160, 317358, 317460, 317638, 318074, 318177, 318870, 318989, 319273, 319436, 319682, 320726, 320790, 320902, 321025, 321260, 321366, 321589, 321891, 321941, 322564, 322584, 322834, 323573, 323598, 323698, 324442, 325278, 326140, 326432, 327364, 327416, 327497, 327544, 327692, 327810, 327976, 328356, 328937, 329124]\n",
      "Validation indexes with more than 2 occurrences of the first 12 characters: [136, 789, 893, 905, 1098, 1228, 2288, 3841, 3868, 3975, 4145, 4886, 4893, 5067, 5486, 5631, 5690, 5898, 6231, 6710, 6823, 6869, 7362, 8351, 8399, 9399, 11682, 12969, 13066, 13246, 13598, 13890, 14186, 14387, 14603, 14688, 14758, 14765, 14863, 15052, 15288, 15443, 15908, 16364, 16663, 17234, 17655, 17696, 17813, 17949, 17987, 18202, 18294, 18323, 18409, 18441, 18738, 19077, 19100, 19147, 19292, 19604, 20347, 21290, 21515, 21621, 21828, 21871, 22454, 22594, 22730, 23104, 23391, 24131, 24864, 24973, 25008, 25995, 27405, 27811, 28064, 28095, 28214, 29488, 29577, 30138, 30287, 30891, 31165, 32127, 32230, 32331, 32578, 32942, 33171, 33248, 33406, 33521, 33913, 34707, 35754, 35912, 36088, 36518, 36556, 37326, 37614, 38305, 38499, 38577, 38647, 39347, 39838, 39842, 40438, 40482, 40625, 40848]\n"
     ]
    }
   ],
   "source": [
    "\n",
    "first_12_chars = sorted_errors[0][0][:17]\n",
    "\n",
    "train_indexes = []\n",
    "valid_indexes = []\n",
    "\n",
    "\n",
    "for idx, row in train.iterrows():\n",
    "    count = row['IDENTITY'][:12].count(first_12_chars)\n",
    "    if count > 2:\n",
    "        train_indexes.append(idx)\n",
    "\n",
    "for idx, row in valid.iterrows():\n",
    "    count = row['IDENTITY'][:12].count(first_12_chars)\n",
    "    if count > 2:\n",
    "        valid_indexes.append(idx)\n",
    "\n",
    "print(\"Train indexes with more than 2 occurrences of the first 12 characters:\", train_indexes)\n",
    "print(\"Validation indexes with more than 2 occurrences of the first 12 characters:\", valid_indexes)\n"
   ],
   "metadata": {
    "collapsed": false,
    "ExecuteTime": {
     "end_time": "2024-04-28T21:32:36.791463600Z",
     "start_time": "2024-04-28T21:32:22.055463800Z"
    }
   },
   "id": "89ce975933691afd",
   "execution_count": 89
  },
  {
   "cell_type": "code",
   "outputs": [
    {
     "name": "stdout",
     "output_type": "stream",
     "text": [
      "937\n"
     ]
    }
   ],
   "source": [
    "train_indexes_size = len(train_indexes)\n",
    "print(train_indexes_size)"
   ],
   "metadata": {
    "collapsed": false,
    "ExecuteTime": {
     "end_time": "2024-04-28T21:44:55.386230800Z",
     "start_time": "2024-04-28T21:44:55.312987600Z"
    }
   },
   "id": "38ac2c9c80c48406",
   "execution_count": 104
  },
  {
   "cell_type": "code",
   "outputs": [
    {
     "name": "stdout",
     "output_type": "stream",
     "text": [
      "118\n"
     ]
    }
   ],
   "source": [
    "valid_indexes_size = len(valid_indexes)\n",
    "print(valid_indexes_size)"
   ],
   "metadata": {
    "collapsed": false,
    "ExecuteTime": {
     "end_time": "2024-04-28T21:44:55.897172500Z",
     "start_time": "2024-04-28T21:44:55.844043800Z"
    }
   },
   "id": "2d427699ab4e244",
   "execution_count": 105
  },
  {
   "cell_type": "code",
   "outputs": [
    {
     "name": "stdout",
     "output_type": "stream",
     "text": [
      "Processed 937 images\n",
      "Processing complete.\n"
     ]
    }
   ],
   "source": [
    "train_x = []\n",
    "\n",
    "for i in train_indexes:\n",
    "    img_dir = './train_v2/train/' + train.loc[i, 'FILENAME']\n",
    "    image = cv2.imread(img_dir, cv2.IMREAD_GRAYSCALE)\n",
    "    image = preprocess(image)\n",
    "    image = image / 255.0  # Normalize pixel values to [0, 1]\n",
    "    train_x.append(image)\n",
    "    \n",
    "    \n",
    "print(f\"Processed {len(train_indexes)} images\")\n",
    "\n",
    "print(\"Processing complete.\")"
   ],
   "metadata": {
    "collapsed": false,
    "ExecuteTime": {
     "end_time": "2024-04-28T21:38:13.800703Z",
     "start_time": "2024-04-28T21:38:13.469176200Z"
    }
   },
   "id": "164a2d2486c1901c",
   "execution_count": 95
  },
  {
   "cell_type": "code",
   "outputs": [],
   "source": [
    "# create new data set 66\n",
    "\n",
    "# Reshape the batch into the required format (num_images, height, width, channels)\n",
    "train_x = np.array(train_x).reshape(-1, 256, 64, 1)\n",
    "\n",
    "# Create a folder for the current batch\n",
    "folder_path = os.path.join('dataset', f'{66}')\n",
    "\n",
    "# Save the batch to a .npy file\n",
    "filename = os.path.join(folder_path, f'train_x.npy')\n",
    "np.save(filename, train_x)"
   ],
   "metadata": {
    "collapsed": false,
    "ExecuteTime": {
     "end_time": "2024-04-28T21:40:54.965462400Z",
     "start_time": "2024-04-28T21:40:54.598553300Z"
    }
   },
   "id": "4698b5e96cb19c64",
   "execution_count": 98
  },
  {
   "cell_type": "code",
   "outputs": [
    {
     "name": "stdout",
     "output_type": "stream",
     "text": [
      "Processed 118 images\n"
     ]
    }
   ],
   "source": [
    "valid_x = []\n",
    "\n",
    "for i in valid_indexes:\n",
    "    img_dir = './validation_v2/validation/' + valid.loc[i, 'FILENAME']\n",
    "    image = cv2.imread(img_dir, cv2.IMREAD_GRAYSCALE)\n",
    "    image = preprocess(image)\n",
    "    image = image / 255.0  # Normalize pixel values to [0, 1]\n",
    "    valid_x.append(image)\n",
    "    \n",
    "print(f\"Processed {len(valid_x)} images\")"
   ],
   "metadata": {
    "collapsed": false,
    "ExecuteTime": {
     "end_time": "2024-04-28T21:42:36.531994500Z",
     "start_time": "2024-04-28T21:42:34.722046500Z"
    }
   },
   "id": "c11e6696dff8aaea",
   "execution_count": 100
  },
  {
   "cell_type": "code",
   "outputs": [],
   "source": [
    "# create new data set 66\n",
    "\n",
    "# Reshape the batch into the required format (num_images, height, width, channels)\n",
    "valid_x = np.array(valid_x).reshape(-1, 256, 64, 1)\n",
    "\n",
    "# Create a folder for the current batch\n",
    "folder_path = os.path.join('dataset', f'{66}')\n",
    "\n",
    "# Save the batch to a .npy file\n",
    "filename = os.path.join(folder_path, f'valid_x.npy')\n",
    "np.save(filename, valid_x)"
   ],
   "metadata": {
    "collapsed": false,
    "ExecuteTime": {
     "end_time": "2024-04-28T21:43:09.858927500Z",
     "start_time": "2024-04-28T21:43:09.787672600Z"
    }
   },
   "id": "34fc621df7754717",
   "execution_count": 101
  },
  {
   "cell_type": "code",
   "outputs": [],
   "source": [
    "# Initialize arrays\n",
    "train_y = np.ones([train_indexes_size, max_str_len]) * blank_label\n",
    "train_label_len = np.zeros([train_indexes_size, 1])\n",
    "train_input_len = np.ones([train_indexes_size, 1]) * (num_of_timestamps - 2)\n",
    "train_output = np.zeros([train_indexes_size])\n",
    "\n",
    "# Loop through the training data\n",
    "i = 0\n",
    "for idx in train_indexes:\n",
    "    # Get the 'IDENTITY' value and convert it to a string if it's not already\n",
    "    identity = train.loc[idx, 'IDENTITY']\n",
    "    if not isinstance(identity, str):\n",
    "        identity = str(identity)\n",
    "    \n",
    "    # Set the label length and label values in train_y\n",
    "    train_label_len[i] = len(identity)\n",
    "    \n",
    "    # Assuming label_to_num is a function that converts characters to numerical values\n",
    "    train_y[i, 0:len(identity)] = label_to_num(identity)\n",
    "    i = i + 1"
   ],
   "metadata": {
    "collapsed": false,
    "ExecuteTime": {
     "end_time": "2024-04-28T21:53:34.281673500Z",
     "start_time": "2024-04-28T21:53:34.228999800Z"
    }
   },
   "id": "8d73a0e54e4a1538",
   "execution_count": 109
  },
  {
   "cell_type": "code",
   "outputs": [],
   "source": [
    "# Save data in the folder\n",
    "folder_path = 'dataset/66'\n",
    "\n",
    "np.save(os.path.join(folder_path, 'train_y.npy'), train_y)\n",
    "np.save(os.path.join(folder_path, 'train_label_len.npy'), train_label_len)\n",
    "np.save(os.path.join(folder_path, 'train_input_len.npy'), train_input_len)\n",
    "np.save(os.path.join(folder_path, 'train_output.npy'), train_output)"
   ],
   "metadata": {
    "collapsed": false,
    "ExecuteTime": {
     "end_time": "2024-04-28T21:54:02.944749600Z",
     "start_time": "2024-04-28T21:54:02.889714700Z"
    }
   },
   "id": "f0de56d43a95f7eb",
   "execution_count": 110
  },
  {
   "cell_type": "code",
   "outputs": [],
   "source": [
    "# Initialize arrays\n",
    "valid_y = np.ones([valid_indexes_size, max_str_len]) * blank_label\n",
    "valid_label_len = np.zeros([valid_indexes_size, 1])\n",
    "valid_input_len = np.ones([valid_indexes_size, 1]) * (num_of_timestamps - 2)\n",
    "valid_output = np.zeros([valid_indexes_size])\n",
    "\n",
    "# Loop through the training data\n",
    "i = 0\n",
    "for idx in valid_indexes:\n",
    "    # Get the 'IDENTITY' value and convert it to a string if it's not already\n",
    "    identity = valid.loc[idx, 'IDENTITY']\n",
    "    if not isinstance(identity, str):\n",
    "        identity = str(identity)\n",
    "    \n",
    "    # Set the label length and label values in train_y\n",
    "    valid_label_len[i] = len(identity)\n",
    "    \n",
    "    # Assuming label_to_num is a function that converts characters to numerical values\n",
    "    valid_y[i, 0:len(identity)] = label_to_num(identity)\n",
    "    i = i + 1"
   ],
   "metadata": {
    "collapsed": false,
    "ExecuteTime": {
     "end_time": "2024-04-28T21:55:35.974390300Z",
     "start_time": "2024-04-28T21:55:35.918005600Z"
    }
   },
   "id": "7303f9078a62e922",
   "execution_count": 111
  },
  {
   "cell_type": "code",
   "outputs": [],
   "source": [
    "# Save data in the folder\n",
    "folder_path = 'dataset/66'\n",
    "\n",
    "np.save(os.path.join(folder_path, 'valid_y.npy'), valid_y)\n",
    "np.save(os.path.join(folder_path, 'valid_label_len.npy'), valid_label_len)\n",
    "np.save(os.path.join(folder_path, 'valid_input_len.npy'), valid_input_len)\n",
    "np.save(os.path.join(folder_path, 'valid_output.npy'), valid_output)"
   ],
   "metadata": {
    "collapsed": false,
    "ExecuteTime": {
     "end_time": "2024-04-28T21:56:04.104075200Z",
     "start_time": "2024-04-28T21:56:04.045677100Z"
    }
   },
   "id": "e1d1360c323c7b85",
   "execution_count": 112
  },
  {
   "cell_type": "code",
   "outputs": [],
   "source": [],
   "metadata": {
    "collapsed": false
   },
   "id": "153b64b030d8023f"
  }
 ],
 "metadata": {
  "kernelspec": {
   "name": "myenv",
   "language": "python",
   "display_name": "tf"
  },
  "language_info": {
   "codemirror_mode": {
    "name": "ipython",
    "version": 2
   },
   "file_extension": ".py",
   "mimetype": "text/x-python",
   "name": "python",
   "nbconvert_exporter": "python",
   "pygments_lexer": "ipython2",
   "version": "2.7.6"
  }
 },
 "nbformat": 4,
 "nbformat_minor": 5
}
