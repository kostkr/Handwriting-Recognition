{
 "cells": [
  {
   "cell_type": "markdown",
   "source": [
    "# Start cells one by one and configure `path_to_model_weight\n",
    "## Image size (height, width) = (64, 256) or less\n",
    "## prompt 1: write letters on image less than height size like on examples images for better recognition "
   ],
   "metadata": {
    "collapsed": false
   },
   "id": "9154fc23957e2423"
  },
  {
   "cell_type": "code",
   "outputs": [],
   "source": [
    "import cv2\n",
    "import numpy as np\n",
    "import matplotlib.pyplot as plt\n",
    "\n",
    "import tensorflow as tf\n",
    "from keras.models import Model\n",
    "from keras.layers import Input, Conv2D, MaxPooling2D, Reshape, Bidirectional, LSTM, Dense, Lambda, Activation, BatchNormalization, Dropout\n",
    "from keras.optimizers import Adam"
   ],
   "metadata": {
    "collapsed": false
   },
   "id": "9d92da90120c347c"
  },
  {
   "cell_type": "code",
   "outputs": [],
   "source": [
    "alphabets = \"ABCDEFGHIJKLMNOPQRSTUVWXYZ-' \"  # The set of valid characters\n",
    "max_str_len = 34                             # Maximum length of input labels\n",
    "num_of_characters = len(alphabets) + 1       # Number of unique characters, plus 1 for CTC pseudo-blank\n",
    "num_of_timestamps = 64                       # The maximum length of predicted labels"
   ],
   "metadata": {
    "collapsed": false,
    "ExecuteTime": {
     "end_time": "2024-05-11T07:43:50.111596700Z",
     "start_time": "2024-05-11T07:43:50.097733500Z"
    }
   },
   "id": "4e45d6a846ae8f1b",
   "execution_count": 13
  },
  {
   "cell_type": "code",
   "outputs": [],
   "source": [
    "# Fuction to preprocess the img\n",
    "def preprocess(img):\n",
    "    (h, w) = img.shape                                    # Getting the height & width of the image\n",
    "    \n",
    "    final_img = np.ones([64, 256])*255                    # Blank white image\n",
    "    \n",
    "    # crop    \n",
    "    if h > 64:\n",
    "        img = img[:64, :]                                 # If the h>64 then it is cropped to 64\n",
    "        \n",
    "    if w > 256:\n",
    "        img = img[:, :256]                                # If the w>256 then it is cropped to 256\n",
    "    \n",
    "    final_img[:h, :w] = img\n",
    "    return cv2.rotate(final_img, cv2.ROTATE_90_CLOCKWISE) # Rotate 90° Clockwise & return"
   ],
   "metadata": {
    "collapsed": false,
    "ExecuteTime": {
     "end_time": "2024-05-11T07:43:50.506757300Z",
     "start_time": "2024-05-11T07:43:50.484331700Z"
    }
   },
   "id": "fb99615a33e51d9d",
   "execution_count": 14
  },
  {
   "cell_type": "code",
   "outputs": [],
   "source": [
    "def label_to_num(label):\n",
    "    return np.array([alphabets.find(ch) for ch in label])\n",
    "\n",
    "\n",
    "def num_to_label(num):\n",
    "    return ''.join([alphabets[ch] for ch in num if ch != -1])\n",
    "\n",
    "blank_label = -1"
   ],
   "metadata": {
    "collapsed": false,
    "ExecuteTime": {
     "end_time": "2024-05-11T07:43:51.051590100Z",
     "start_time": "2024-05-11T07:43:51.033425Z"
    }
   },
   "id": "23c9ee28f786c5ae",
   "execution_count": 15
  },
  {
   "cell_type": "code",
   "outputs": [],
   "source": [
    "path_to_model_weight = 'trained_model_13_3.h5'\n",
    "\n",
    "\n",
    "# Define the input layer with a shape of (256, 64, 1) for grayscale images\n",
    "input_data = Input(shape=(256, 64, 1), name='input')\n",
    "\n",
    "# Convolutional Layer 1: 32 filters, (3, 3) kernel, 'same' padding, He normal initialization\n",
    "inner = Conv2D(32, (3, 3), padding='same', name='conv1', kernel_initializer='he_normal')(input_data)\n",
    "inner = BatchNormalization()(inner)  # Batch normalization\n",
    "inner = Activation('relu')(inner)  # ReLU activation\n",
    "inner = MaxPooling2D(pool_size=(2, 2), name='max1')(inner)  # Max-pooling\n",
    "\n",
    "# Convolutional Layer 2: 64 filters, (3, 3) kernel, 'same' padding, He normal initialization\n",
    "inner = Conv2D(64, (3, 3), padding='same', name='conv2', kernel_initializer='he_normal')(inner)\n",
    "inner = BatchNormalization()(inner)\n",
    "inner = Activation('relu')(inner)\n",
    "inner = MaxPooling2D(pool_size=(2, 2), name='max2')(inner)\n",
    "inner = Dropout(0.3)(inner)\n",
    "\n",
    "# Convolutional Layer 3: 128 filters, (3, 3) kernel, 'same' padding, He normal initialization\n",
    "inner = Conv2D(128, (3, 3), padding='same', name='conv3', kernel_initializer='he_normal')(inner)\n",
    "inner = BatchNormalization()(inner)\n",
    "inner = Activation('relu')(inner)\n",
    "inner = MaxPooling2D(pool_size=(1, 2), name='max3')(inner)\n",
    "inner = Dropout(0.3)(inner)\n",
    "\n",
    "# Reshape the output for sequence processing\n",
    "inner = Reshape(target_shape=((64, 1024)), name='reshape')(inner)\n",
    "\n",
    "# Fully Connected Layer 1: 64 units, ReLU activation, He normal initialization\n",
    "inner = Dense(64, activation='relu', kernel_initializer='he_normal', name='dense1')(inner)\n",
    "\n",
    "# Bidirectional LSTM Layers: 256 units, return sequences\n",
    "inner = Bidirectional(LSTM(256, return_sequences=True), name='lstm1')(inner)\n",
    "inner = Bidirectional(LSTM(256, return_sequences=True), name='lstm2')(inner)\n",
    "\n",
    "# Output Layer: Number of characters, He normal initialization\n",
    "inner = Dense(num_of_characters, kernel_initializer='he_normal', name='dense2')(inner)\n",
    "y_pred = Activation('softmax', name='softmax')(inner)  # Softmax activation\n",
    "# Create the model with input and output layers\n",
    "model = Model(inputs=input_data, outputs=y_pred)\n",
    "\n",
    "model.load_weights(path_to_model_weight)\n",
    "\n",
    "# The ctc loss function\n",
    "def ctc_lambda_func(args):\n",
    "    y_pred, labels, input_length, label_length = args\n",
    "    # The 2 is critical here since the first couple outputs of the RNN tend to be garbage\n",
    "    y_pred = y_pred[:, 2:, :]\n",
    "    return tf.keras.backend.ctc_batch_cost(labels, y_pred, input_length, label_length)\n",
    "\n",
    "\n",
    "# Define input placeholders for true labels, input sequence length, and label sequence length\n",
    "labels = Input(name='gtruth_labels', shape=[max_str_len], dtype='float32')\n",
    "input_length = Input(name='input_length', shape=[1], dtype='int64')\n",
    "label_length = Input(name='label_length', shape=[1], dtype='int64')\n",
    "\n",
    "# Calculate CTC loss using the ctc_lambda_func function\n",
    "ctc_loss = Lambda(ctc_lambda_func, output_shape=(1,), name='ctc')([y_pred, labels, input_length, label_length])\n",
    "\n",
    "# Create the final model that takes input data, true labels, input length, and label length\n",
    "model_final = Model(inputs=[input_data, labels, input_length, label_length], outputs=ctc_loss)\n",
    "# Compile the final model with a dummy loss lambda function (loss calculation occurs elsewhere)\n",
    "# The optimizer used is Adam with a learning rate of 0.0001\n",
    "model_final.compile(loss={'ctc': lambda y_true, y_pred: y_pred}, optimizer=Adam(learning_rate=0.0001))"
   ],
   "metadata": {
    "collapsed": false,
    "ExecuteTime": {
     "end_time": "2024-05-11T07:43:53.312801800Z",
     "start_time": "2024-05-11T07:43:51.575514700Z"
    }
   },
   "id": "970d3fb6b65cecd6",
   "execution_count": 16
  },
  {
   "cell_type": "code",
   "outputs": [],
   "source": [
    "def predict(image):\n",
    "    image = cv2.cvtColor(image, cv2.COLOR_BGR2GRAY)\n",
    "\n",
    "    image = preprocess(image)\n",
    "    image = image / 255.\n",
    "\n",
    "    print('prepared image to analyse')\n",
    "    plt.imshow(image)\n",
    "    plt.axis('off')\n",
    "    plt.subplots_adjust(wspace=0.4, hspace=-0.8)\n",
    "    plt.show()\n",
    "\n",
    "    # Reshape the image to have a batch size of 1\n",
    "    image = image.reshape(1, 256, 64, 1)\n",
    "\n",
    "    pred = model.predict(image)\n",
    "    decoded =  tf.keras.backend.get_value( tf.keras.backend.ctc_decode(pred, input_length=np.ones(pred.shape[0]) * pred.shape[1], greedy=True)[0][0])\n",
    "\n",
    "    return num_to_label(decoded[0])"
   ],
   "metadata": {
    "collapsed": false,
    "ExecuteTime": {
     "end_time": "2024-05-11T07:45:55.845001400Z",
     "start_time": "2024-05-11T07:45:55.803051100Z"
    }
   },
   "id": "457e60eeffdeb13c",
   "execution_count": 26
  },
  {
   "cell_type": "code",
   "outputs": [
    {
     "name": "stdout",
     "output_type": "stream",
     "text": [
      "prepared image to analyse\n"
     ]
    },
    {
     "data": {
      "text/plain": "<Figure size 640x480 with 1 Axes>",
      "image/png": "[encoded data removed]"
     },
     "metadata": {},
     "output_type": "display_data"
    },
    {
     "name": "stdout",
     "output_type": "stream",
     "text": [
      "1/1 [==============================] - 0s 62ms/step\n",
      "prediction  HELLO\n"
     ]
    },
    {
     "data": {
      "text/plain": "<Figure size 640x480 with 1 Axes>",
      "image/png": "[encoded data removed]"
     },
     "metadata": {},
     "output_type": "display_data"
    }
   ],
   "source": [
    "#my_image = cv2.imread('./test_v2/test/TEST_0014.jpg')\n",
    "my_image = cv2.imread('test_image.jpg')\n",
    "print('prediction ', predict(my_image))\n",
    "\n",
    "plt.imshow(my_image)\n",
    "plt.axis('off')\n",
    "plt.subplots_adjust(wspace=0.4, hspace=-0.8)\n",
    "plt.show()"
   ],
   "metadata": {
    "collapsed": false,
    "ExecuteTime": {
     "end_time": "2024-05-11T07:58:42.366721400Z",
     "start_time": "2024-05-11T07:58:42.183720400Z"
    }
   },
   "id": "200298b712eb3c15",
   "execution_count": 44
  },
  {
   "cell_type": "code",
   "outputs": [],
   "source": [],
   "metadata": {
    "collapsed": false,
    "ExecuteTime": {
     "end_time": "2024-05-11T07:48:48.670556100Z",
     "start_time": "2024-05-11T07:48:48.654929500Z"
    }
   },
   "id": "1fb17abbb46b7b3",
   "execution_count": 28
  },
  {
   "cell_type": "code",
   "outputs": [],
   "source": [],
   "metadata": {
    "collapsed": false
   },
   "id": "de2925d606472a57"
  }
 ],
 "metadata": {
  "kernelspec": {
   "name": "myenv",
   "language": "python",
   "display_name": "tf"
  },
  "language_info": {
   "codemirror_mode": {
    "name": "ipython",
    "version": 2
   },
   "file_extension": ".py",
   "mimetype": "text/x-python",
   "name": "python",
   "nbconvert_exporter": "python",
   "pygments_lexer": "ipython2",
   "version": "2.7.6"
  }
 },
 "nbformat": 4,
 "nbformat_minor": 5
}
